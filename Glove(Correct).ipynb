{
  "nbformat": 4,
  "nbformat_minor": 0,
  "metadata": {
    "colab": {
      "provenance": [],
      "collapsed_sections": []
    },
    "kernelspec": {
      "name": "python3",
      "display_name": "Python 3"
    },
    "language_info": {
      "name": "python"
    }
  },
  "cells": [
    {
      "cell_type": "code",
      "execution_count": null,
      "metadata": {
        "colab": {
          "base_uri": "https://localhost:8080/"
        },
        "id": "CcsDCiONkYen",
        "outputId": "6c272c0e-4823-4041-da20-971d2d7a7964"
      },
      "outputs": [
        {
          "output_type": "stream",
          "name": "stdout",
          "text": [
            "Looking in indexes: https://pypi.org/simple, https://us-python.pkg.dev/colab-wheels/public/simple/\n",
            "Requirement already satisfied: glove-python-binary in /usr/local/lib/python3.7/dist-packages (0.2.0)\n",
            "Requirement already satisfied: scipy in /usr/local/lib/python3.7/dist-packages (from glove-python-binary) (1.7.3)\n",
            "Requirement already satisfied: numpy in /usr/local/lib/python3.7/dist-packages (from glove-python-binary) (1.21.6)\n"
          ]
        }
      ],
      "source": [
        "!pip install glove-python-binary"
      ]
    },
    {
      "cell_type": "code",
      "source": [
        "txt=open(\"/content/news.txt\",\"r\").read()"
      ],
      "metadata": {
        "id": "Npr7Y_Nik7-a"
      },
      "execution_count": null,
      "outputs": []
    },
    {
      "cell_type": "code",
      "source": [
        "punct=''',;'[]{}()\\|!$%^&*?><:`~'''\n",
        "nopun=\"\"\n",
        "for i in txt:\n",
        "  if i not in punct:\n",
        "    nopun+=i\n",
        "nopun"
      ],
      "metadata": {
        "colab": {
          "base_uri": "https://localhost:8080/",
          "height": 123
        },
        "id": "Pz67KKBJmgTe",
        "outputId": "4d934434-ab73-4995-98b8-c903c981d228"
      },
      "execution_count": null,
      "outputs": [
        {
          "output_type": "execute_result",
          "data": {
            "text/plain": [
              "'Manchester United have won a record 20 League titles 12 FA Cups five League Cups and a record 21 FA Community Shields. They have won the European Cup/UEFA Champions League three times and the UEFA Europa League the UEFA Cup Winners Cup the UEFA Super Cup the Intercontinental Cup and the FIFA Club World Cup once each.56 In 1968 under the management of Matt Busby 10 years after eight of the clubs players were killed in the Munich air disaster they became the first English club to win the European Cup. Alex Ferguson is the clubs longest-serving and most successful manager winning 38 trophies including 13 league titles 5 FA Cups and 2 UEFA Champions League titles between 1986 and 2013.789 In the 1998–99 season under Ferguson the club became the first in the history of English football to achieve the European treble of the Premier League FA Cup and UEFA Champions League.10 In winning the UEFA Europa League under José Mourinho in 2016–17 they became one of five clubs to have won the original three main UEFA club competitions the Champions League Europa League and Cup Winners Cup.'"
            ],
            "application/vnd.google.colaboratory.intrinsic+json": {
              "type": "string"
            }
          },
          "metadata": {},
          "execution_count": 67
        }
      ]
    },
    {
      "cell_type": "code",
      "source": [
        "nopun"
      ],
      "metadata": {
        "colab": {
          "base_uri": "https://localhost:8080/",
          "height": 123
        },
        "id": "HQbPgOlVnvvk",
        "outputId": "3e5ea115-205c-4f31-cee8-f8dd92d56be1"
      },
      "execution_count": null,
      "outputs": [
        {
          "output_type": "execute_result",
          "data": {
            "text/plain": [
              "'Manchester United have won a record 20 League titles 12 FA Cups five League Cups and a record 21 FA Community Shields. They have won the European Cup/UEFA Champions League three times and the UEFA Europa League the UEFA Cup Winners Cup the UEFA Super Cup the Intercontinental Cup and the FIFA Club World Cup once each.56 In 1968 under the management of Matt Busby 10 years after eight of the clubs players were killed in the Munich air disaster they became the first English club to win the European Cup. Alex Ferguson is the clubs longest-serving and most successful manager winning 38 trophies including 13 league titles 5 FA Cups and 2 UEFA Champions League titles between 1986 and 2013.789 In the 1998–99 season under Ferguson the club became the first in the history of English football to achieve the European treble of the Premier League FA Cup and UEFA Champions League.10 In winning the UEFA Europa League under José Mourinho in 2016–17 they became one of five clubs to have won the original three main UEFA club competitions the Champions League Europa League and Cup Winners Cup.'"
            ],
            "application/vnd.google.colaboratory.intrinsic+json": {
              "type": "string"
            }
          },
          "metadata": {},
          "execution_count": 43
        }
      ]
    },
    {
      "cell_type": "code",
      "source": [
        "import nltk\n",
        "nltk.download('stopwords')\n",
        "from nltk.corpus import stopwords \n",
        "allstopwords=stopwords.words('english') #not completed\n",
        "newstring=''\n",
        "for i in nopun.split():\n",
        "  if i not in allstopwords:\n",
        "    newstring+=i+\" \"\n",
        "newstring"
      ],
      "metadata": {
        "colab": {
          "base_uri": "https://localhost:8080/",
          "height": 140
        },
        "id": "UIW5qdWPszj6",
        "outputId": "f554e8e3-7d3c-4b55-be56-02fdd7ebc55d"
      },
      "execution_count": null,
      "outputs": [
        {
          "output_type": "stream",
          "name": "stderr",
          "text": [
            "[nltk_data] Downloading package stopwords to /root/nltk_data...\n",
            "[nltk_data]   Package stopwords is already up-to-date!\n"
          ]
        },
        {
          "output_type": "execute_result",
          "data": {
            "text/plain": [
              "'Manchester United record 20 League titles 12 FA Cups five League Cups record 21 FA Community Shields. They European Cup/UEFA Champions League three times UEFA Europa League UEFA Cup Winners Cup UEFA Super Cup Intercontinental Cup FIFA Club World Cup each.56 In 1968 management Matt Busby 10 years eight clubs players killed Munich air disaster became first English club win European Cup. Alex Ferguson clubs longest-serving successful manager winning 38 trophies including 13 league titles 5 FA Cups 2 UEFA Champions League titles 1986 2013.789 In 1998–99 season Ferguson club became first history English football achieve European treble Premier League FA Cup UEFA Champions League.10 In winning UEFA Europa League José Mourinho 2016–17 became one five clubs original three main UEFA club competitions Champions League Europa League Cup Winners Cup. '"
            ],
            "application/vnd.google.colaboratory.intrinsic+json": {
              "type": "string"
            }
          },
          "metadata": {},
          "execution_count": 44
        }
      ]
    },
    {
      "cell_type": "code",
      "source": [
        "newstring"
      ],
      "metadata": {
        "colab": {
          "base_uri": "https://localhost:8080/",
          "height": 105
        },
        "id": "WKeYth1Ns91a",
        "outputId": "a4c828f2-ba64-4404-c526-2babf1699b2c"
      },
      "execution_count": null,
      "outputs": [
        {
          "output_type": "execute_result",
          "data": {
            "text/plain": [
              "'Manchester United record 20 League titles 12 FA Cups five League Cups record 21 FA Community Shields. They European Cup/UEFA Champions League three times UEFA Europa League UEFA Cup Winners Cup UEFA Super Cup Intercontinental Cup FIFA Club World Cup each.56 In 1968 management Matt Busby 10 years eight clubs players killed Munich air disaster became first English club win European Cup. Alex Ferguson clubs longest-serving successful manager winning 38 trophies including 13 league titles 5 FA Cups 2 UEFA Champions League titles 1986 2013.789 In 1998–99 season Ferguson club became first history English football achieve European treble Premier League FA Cup UEFA Champions League.10 In winning UEFA Europa League José Mourinho 2016–17 became one five clubs original three main UEFA club competitions Champions League Europa League Cup Winners Cup. '"
            ],
            "application/vnd.google.colaboratory.intrinsic+json": {
              "type": "string"
            }
          },
          "metadata": {},
          "execution_count": 45
        }
      ]
    },
    {
      "cell_type": "code",
      "source": [
        "new=newstring.split(\".\")\n",
        "new.pop()\n",
        "new"
      ],
      "metadata": {
        "colab": {
          "base_uri": "https://localhost:8080/"
        },
        "id": "5iEMUVpmn4Fy",
        "outputId": "870992d2-68c7-4044-8da3-03c8ab59a7f1"
      },
      "execution_count": null,
      "outputs": [
        {
          "output_type": "execute_result",
          "data": {
            "text/plain": [
              "['Manchester United record 20 League titles 12 FA Cups five League Cups record 21 FA Community Shields',\n",
              " ' They European Cup/UEFA Champions League three times UEFA Europa League UEFA Cup Winners Cup UEFA Super Cup Intercontinental Cup FIFA Club World Cup each',\n",
              " '56 In 1968 management Matt Busby 10 years eight clubs players killed Munich air disaster became first English club win European Cup',\n",
              " ' Alex Ferguson clubs longest-serving successful manager winning 38 trophies including 13 league titles 5 FA Cups 2 UEFA Champions League titles 1986 2013',\n",
              " '789 In 1998–99 season Ferguson club became first history English football achieve European treble Premier League FA Cup UEFA Champions League',\n",
              " '10 In winning UEFA Europa League José Mourinho 2016–17 became one five clubs original three main UEFA club competitions Champions League Europa League Cup Winners Cup']"
            ]
          },
          "metadata": {},
          "execution_count": 46
        }
      ]
    },
    {
      "cell_type": "code",
      "source": [
        "import nltk\n",
        "nltk.download(\"punkt\")\n",
        "word_token_list=[]\n",
        "for i in new:\n",
        "  list=nltk.word_tokenize(i)\n",
        "  word_token_list.append(list)\n",
        "word_token_list"
      ],
      "metadata": {
        "colab": {
          "base_uri": "https://localhost:8080/"
        },
        "id": "DjmtGJM3ou37",
        "outputId": "a32ecfee-ec0d-40b8-f139-20de0a6f2ff0"
      },
      "execution_count": null,
      "outputs": [
        {
          "output_type": "stream",
          "name": "stderr",
          "text": [
            "[nltk_data] Downloading package punkt to /root/nltk_data...\n",
            "[nltk_data]   Package punkt is already up-to-date!\n"
          ]
        },
        {
          "output_type": "execute_result",
          "data": {
            "text/plain": [
              "[['Manchester',\n",
              "  'United',\n",
              "  'record',\n",
              "  '20',\n",
              "  'League',\n",
              "  'titles',\n",
              "  '12',\n",
              "  'FA',\n",
              "  'Cups',\n",
              "  'five',\n",
              "  'League',\n",
              "  'Cups',\n",
              "  'record',\n",
              "  '21',\n",
              "  'FA',\n",
              "  'Community',\n",
              "  'Shields'],\n",
              " ['They',\n",
              "  'European',\n",
              "  'Cup/UEFA',\n",
              "  'Champions',\n",
              "  'League',\n",
              "  'three',\n",
              "  'times',\n",
              "  'UEFA',\n",
              "  'Europa',\n",
              "  'League',\n",
              "  'UEFA',\n",
              "  'Cup',\n",
              "  'Winners',\n",
              "  'Cup',\n",
              "  'UEFA',\n",
              "  'Super',\n",
              "  'Cup',\n",
              "  'Intercontinental',\n",
              "  'Cup',\n",
              "  'FIFA',\n",
              "  'Club',\n",
              "  'World',\n",
              "  'Cup',\n",
              "  'each'],\n",
              " ['56',\n",
              "  'In',\n",
              "  '1968',\n",
              "  'management',\n",
              "  'Matt',\n",
              "  'Busby',\n",
              "  '10',\n",
              "  'years',\n",
              "  'eight',\n",
              "  'clubs',\n",
              "  'players',\n",
              "  'killed',\n",
              "  'Munich',\n",
              "  'air',\n",
              "  'disaster',\n",
              "  'became',\n",
              "  'first',\n",
              "  'English',\n",
              "  'club',\n",
              "  'win',\n",
              "  'European',\n",
              "  'Cup'],\n",
              " ['Alex',\n",
              "  'Ferguson',\n",
              "  'clubs',\n",
              "  'longest-serving',\n",
              "  'successful',\n",
              "  'manager',\n",
              "  'winning',\n",
              "  '38',\n",
              "  'trophies',\n",
              "  'including',\n",
              "  '13',\n",
              "  'league',\n",
              "  'titles',\n",
              "  '5',\n",
              "  'FA',\n",
              "  'Cups',\n",
              "  '2',\n",
              "  'UEFA',\n",
              "  'Champions',\n",
              "  'League',\n",
              "  'titles',\n",
              "  '1986',\n",
              "  '2013'],\n",
              " ['789',\n",
              "  'In',\n",
              "  '1998–99',\n",
              "  'season',\n",
              "  'Ferguson',\n",
              "  'club',\n",
              "  'became',\n",
              "  'first',\n",
              "  'history',\n",
              "  'English',\n",
              "  'football',\n",
              "  'achieve',\n",
              "  'European',\n",
              "  'treble',\n",
              "  'Premier',\n",
              "  'League',\n",
              "  'FA',\n",
              "  'Cup',\n",
              "  'UEFA',\n",
              "  'Champions',\n",
              "  'League'],\n",
              " ['10',\n",
              "  'In',\n",
              "  'winning',\n",
              "  'UEFA',\n",
              "  'Europa',\n",
              "  'League',\n",
              "  'José',\n",
              "  'Mourinho',\n",
              "  '2016–17',\n",
              "  'became',\n",
              "  'one',\n",
              "  'five',\n",
              "  'clubs',\n",
              "  'original',\n",
              "  'three',\n",
              "  'main',\n",
              "  'UEFA',\n",
              "  'club',\n",
              "  'competitions',\n",
              "  'Champions',\n",
              "  'League',\n",
              "  'Europa',\n",
              "  'League',\n",
              "  'Cup',\n",
              "  'Winners',\n",
              "  'Cup']]"
            ]
          },
          "metadata": {},
          "execution_count": 47
        }
      ]
    },
    {
      "cell_type": "code",
      "source": [
        "import glove \n",
        "from glove import Glove, Corpus\n",
        "\n",
        "corpus = Corpus() \n",
        "corpus.fit(word_token_list, window=10)\n",
        "\n",
        "glove = Glove(no_components=5, learning_rate=0.05)\n",
        " \n",
        "glove.fit(corpus.matrix, epochs=30, no_threads=4, verbose=True)\n",
        "glove.add_dictionary(corpus.dictionary)\n",
        "glove.save('glove.model')"
      ],
      "metadata": {
        "id": "dPqQahULsTuy",
        "colab": {
          "base_uri": "https://localhost:8080/"
        },
        "outputId": "51856432-bcdf-4139-99dc-f64d676d52cc"
      },
      "execution_count": null,
      "outputs": [
        {
          "output_type": "stream",
          "name": "stdout",
          "text": [
            "Performing 30 training epochs with 4 threads\n",
            "Epoch 0\n",
            "Epoch 1\n",
            "Epoch 2\n",
            "Epoch 3\n",
            "Epoch 4\n",
            "Epoch 5\n",
            "Epoch 6\n",
            "Epoch 7\n",
            "Epoch 8\n",
            "Epoch 9\n",
            "Epoch 10\n",
            "Epoch 11\n",
            "Epoch 12\n",
            "Epoch 13\n",
            "Epoch 14\n",
            "Epoch 15\n",
            "Epoch 16\n",
            "Epoch 17\n",
            "Epoch 18\n",
            "Epoch 19\n",
            "Epoch 20\n",
            "Epoch 21\n",
            "Epoch 22\n",
            "Epoch 23\n",
            "Epoch 24\n",
            "Epoch 25\n",
            "Epoch 26\n",
            "Epoch 27\n",
            "Epoch 28\n",
            "Epoch 29\n"
          ]
        }
      ]
    },
    {
      "cell_type": "code",
      "source": [
        "glove.most_similar('United')"
      ],
      "metadata": {
        "colab": {
          "base_uri": "https://localhost:8080/"
        },
        "id": "A_X9Tt7E-s6L",
        "outputId": "52e81123-bebe-4c3b-91bd-b29d50a8c0e6"
      },
      "execution_count": null,
      "outputs": [
        {
          "output_type": "execute_result",
          "data": {
            "text/plain": [
              "[('League', 0.926272480306138),\n",
              " ('Mourinho', 0.8488691630567952),\n",
              " ('38', 0.7816739757524406),\n",
              " ('season', 0.7639226437668633)]"
            ]
          },
          "metadata": {},
          "execution_count": 49
        }
      ]
    },
    {
      "cell_type": "code",
      "source": [
        "glove.dictionary.keys()"
      ],
      "metadata": {
        "colab": {
          "base_uri": "https://localhost:8080/"
        },
        "id": "aoBACT-BCp6F",
        "outputId": "44b9fe75-0371-43c6-a2fc-d95e9ec8ca51"
      },
      "execution_count": null,
      "outputs": [
        {
          "output_type": "execute_result",
          "data": {
            "text/plain": [
              "dict_keys(['Manchester', 'United', 'record', '20', 'League', 'titles', '12', 'FA', 'Cups', 'five', '21', 'Community', 'Shields', 'They', 'European', 'Cup/UEFA', 'Champions', 'three', 'times', 'UEFA', 'Europa', 'Cup', 'Winners', 'Super', 'Intercontinental', 'FIFA', 'Club', 'World', 'each', '56', 'In', '1968', 'management', 'Matt', 'Busby', '10', 'years', 'eight', 'clubs', 'players', 'killed', 'Munich', 'air', 'disaster', 'became', 'first', 'English', 'club', 'win', 'Alex', 'Ferguson', 'longest-serving', 'successful', 'manager', 'winning', '38', 'trophies', 'including', '13', 'league', '5', '2', '1986', '2013', '789', '1998–99', 'season', 'history', 'football', 'achieve', 'treble', 'Premier', 'José', 'Mourinho', '2016–17', 'one', 'original', 'main', 'competitions'])"
            ]
          },
          "metadata": {},
          "execution_count": 50
        }
      ]
    },
    {
      "cell_type": "code",
      "source": [
        "glove.word_vectors[glove.dictionary[\"Manchester\"]]\n"
      ],
      "metadata": {
        "colab": {
          "base_uri": "https://localhost:8080/"
        },
        "id": "6oGA97Mz-4XE",
        "outputId": "d0151ef9-f663-43d5-8adf-d223878d26ab"
      },
      "execution_count": null,
      "outputs": [
        {
          "output_type": "execute_result",
          "data": {
            "text/plain": [
              "array([ 0.07465619, -0.02380779,  0.06712487, -0.09744723,  0.09192432])"
            ]
          },
          "metadata": {},
          "execution_count": 51
        }
      ]
    },
    {
      "cell_type": "code",
      "source": [
        "for i in glove.dictionary.keys():\n",
        "  wv=glove.word_vectors[glove.dictionary[i]]\n",
        "  print(i,wv)"
      ],
      "metadata": {
        "colab": {
          "base_uri": "https://localhost:8080/"
        },
        "id": "zw-37L2EBPA3",
        "outputId": "ea6a0e64-20c9-4b4b-bcb5-2fed3928c32d"
      },
      "execution_count": null,
      "outputs": [
        {
          "output_type": "stream",
          "name": "stdout",
          "text": [
            "Manchester [ 0.07465619 -0.02380779  0.06712487 -0.09744723  0.09192432]\n",
            "United [ 0.00749268 -0.00857405  0.07141867 -0.05324489 -0.05095777]\n",
            "record [ 0.01967369  0.06528039 -0.04858206 -0.08299546 -0.03707725]\n",
            "20 [-0.06103617  0.05251674  0.01842442 -0.02319289 -0.02201901]\n",
            "League [ 0.00083568 -0.02721839  0.12059481 -0.04031613 -0.03893162]\n",
            "titles [0.04006077 0.00585595 0.01135538 0.0427934  0.02116669]\n",
            "12 [-0.06784786 -0.01135386  0.01644744 -0.01068122  0.0047234 ]\n",
            "FA [-0.03441795 -0.01720077 -0.00190719 -0.01559798  0.07285672]\n",
            "Cups [ 0.02109335 -0.0865355  -0.03279834  0.10235755  0.004386  ]\n",
            "five [ 0.02359782  0.01934686  0.00210588  0.0730191  -0.06963792]\n",
            "21 [0.04975778 0.09240611 0.01545058 0.02929647 0.03683722]\n",
            "Community [ 0.08187099 -0.08185073 -0.09356466 -0.07362701  0.06924814]\n",
            "Shields [ 0.03813735 -0.02689834 -0.10098635 -0.01789112  0.08148783]\n",
            "They [-0.01624523  0.05736103  0.01824605  0.02023546  0.01958237]\n",
            "European [-0.04999202  0.01191778  0.06736705  0.05430065  0.01899613]\n",
            "Cup/UEFA [ 0.07855958 -0.08253812  0.09682951  0.06032271  0.04030785]\n",
            "Champions [ 0.09353009  0.04362305  0.10245742 -0.05545251  0.02850632]\n",
            "three [ 0.0921857   0.0735459   0.01974813 -0.03308206 -0.04874664]\n",
            "times [-0.00260352 -0.04128584 -0.07199616  0.05308645  0.03784356]\n",
            "UEFA [-0.05676589 -0.05000184  0.07613869 -0.09724599  0.05180093]\n",
            "Europa [-0.01565365 -0.07898812  0.04864983 -0.04075889  0.07067263]\n",
            "Cup [-0.08821013 -0.02271976  0.06451233 -0.11139236  0.08880757]\n",
            "Winners [ 0.07113238  0.0716982  -0.00475603 -0.00906448  0.03738215]\n",
            "Super [-0.04414113  0.03486804  0.06834186 -0.03815727  0.0354035 ]\n",
            "Intercontinental [ 0.08372465  0.01915233 -0.04307406 -0.02175247  0.08492344]\n",
            "FIFA [ 0.07217449  0.00789735  0.06128633  0.08107822 -0.08057394]\n",
            "Club [-0.08398197  0.06267311 -0.01793527  0.02809943 -0.08426168]\n",
            "World [ 0.09236532 -0.04578349 -0.06414716  0.01922614  0.08289444]\n",
            "each [ 0.07093315  0.0145633  -0.05763009  0.053505    0.0598109 ]\n",
            "56 [-0.03652239  0.009093    0.09540401  0.01363837 -0.00434671]\n",
            "In [ 0.05016913 -0.05792958  0.02320217 -0.07536135  0.00158625]\n",
            "1968 [-0.04204336  0.01911656 -0.07952903  0.03892692 -0.063927  ]\n",
            "management [ 0.092443   -0.07586975  0.07062212 -0.01225794  0.04433947]\n",
            "Matt [-0.06443856 -0.00026735  0.06169139  0.03040216 -0.08683673]\n",
            "Busby [-0.02444084  0.08473102  0.02061271 -0.01992416 -0.06069295]\n",
            "10 [-3.26070732e-02  8.62556883e-02  4.12675324e-05 -8.49680093e-02\n",
            "  8.09286988e-02]\n",
            "years [-0.06336853  0.01112281  0.0634682  -0.0139412   0.05344893]\n",
            "eight [-0.0950706  -0.05767684 -0.03523777  0.0563996  -0.05692291]\n",
            "clubs [ 0.01037814 -0.09815211 -0.01792604 -0.03613062 -0.02580671]\n",
            "players [ 0.00665366 -0.03306856  0.05008704  0.06889174  0.00967222]\n",
            "killed [-0.06510682  0.02963164  0.07045533  0.08882547 -0.01250439]\n",
            "Munich [-0.03310061  0.09041898 -0.09739899  0.0127807  -0.08196372]\n",
            "air [-0.04414752 -0.01866315  0.00588684  0.06813532 -0.06246588]\n",
            "disaster [ 0.06765011  0.0754209  -0.03582353  0.07866608 -0.0982421 ]\n",
            "became [-0.02328502 -0.06915231 -0.11264818  0.08226499  0.08451957]\n",
            "first [-0.08437523  0.09613511 -0.04148725  0.04339409 -0.01235957]\n",
            "English [-0.05066949 -0.04784319 -0.04752105  0.0323278   0.05697224]\n",
            "club [ 0.0093729  -0.04601703 -0.03773135 -0.03150125  0.05062594]\n",
            "win [ 0.09203651  0.07649685  0.08625162  0.09164965 -0.00875889]\n",
            "Alex [-0.02512723  0.06933278  0.02997057  0.08736143  0.06057317]\n",
            "Ferguson [-0.07015603 -0.08122863 -0.00433183 -0.0751316   0.10038411]\n",
            "longest-serving [ 0.00461478  0.00875011 -0.10425987  0.07654541  0.03868088]\n",
            "successful [ 0.04882504 -0.02436649  0.0060251  -0.06874056 -0.01960861]\n",
            "manager [ 0.03520842 -0.04099659 -0.04702625 -0.05300254 -0.02363699]\n",
            "winning [ 0.01945747  0.08752891  0.02606188 -0.01518974  0.09603135]\n",
            "38 [-0.03155287  0.04451403  0.05666961 -0.08586979 -0.03609848]\n",
            "trophies [0.00200712 0.05349042 0.02135185 0.09019004 0.08876118]\n",
            "including [ 0.07528855 -0.00991136  0.09030687  0.04015696  0.02437958]\n",
            "13 [-0.06697374  0.06574911  0.07570366  0.09882371 -0.02685284]\n",
            "league [-0.09501181 -0.0064942  -0.06258863 -0.06595228 -0.08542143]\n",
            "5 [ 0.06044741  0.08971889  0.00154882 -0.01448283  0.01053894]\n",
            "2 [-0.03260814 -0.01511158 -0.02963516 -0.04805353 -0.09033006]\n",
            "1986 [-0.0387386   0.02553117 -0.06870061 -0.03288073 -0.08081179]\n",
            "2013 [ 0.06020384  0.08984714 -0.01027714 -0.05260218  0.06704867]\n",
            "789 [ 0.03492256 -0.08585363  0.03891307  0.03582004  0.01602256]\n",
            "1998–99 [0.01744584 0.00711391 0.08568321 0.02489566 0.03477188]\n",
            "season [ 0.0295076  -0.06464149  0.04744115 -0.0639452  -0.01937589]\n",
            "history [ 0.04752039  0.00808327 -0.01009139  0.05316367  0.05929838]\n",
            "football [-0.03783009 -0.04183539 -0.004525    0.09750577 -0.08215765]\n",
            "achieve [-0.01132634 -0.06135715 -0.00650523  0.00824103 -0.10274482]\n",
            "treble [-0.05395914  0.01420984  0.03858164  0.05546318 -0.02307073]\n",
            "Premier [-0.0145207   0.03144351 -0.08955416 -0.08461506 -0.06646484]\n",
            "José [ 0.06157563  0.03623782 -0.0262649   0.08567727  0.07753552]\n",
            "Mourinho [ 0.05778731 -0.04663675  0.05204622 -0.06395029 -0.0936675 ]\n",
            "2016–17 [ 0.05118301 -0.00733484 -0.07709117 -0.04850216  0.00731147]\n",
            "one [ 0.03925522  0.05592571  0.00261923 -0.0293522  -0.05354419]\n",
            "original [ 0.03976797  0.0268283  -0.09745532  0.09053324  0.08021285]\n",
            "main [ 0.06052382 -0.01270323 -0.04050329  0.04936228 -0.10282805]\n",
            "competitions [ 0.08112746 -0.05989262 -0.0306013   0.0933517   0.07486947]\n"
          ]
        }
      ]
    },
    {
      "cell_type": "code",
      "source": [
        "import gensim\n",
        "from gensim.models import Word2Vec"
      ],
      "metadata": {
        "id": "ItEzQmMkDkzd"
      },
      "execution_count": null,
      "outputs": []
    },
    {
      "cell_type": "code",
      "source": [
        "\n",
        "model=Word2Vec(word_token_list,min_count=1,size=50,window=3,sg=1)\n",
        "print(model)"
      ],
      "metadata": {
        "colab": {
          "base_uri": "https://localhost:8080/"
        },
        "id": "azLa1xPeJ0B2",
        "outputId": "e180c42d-5fe7-4234-9a3b-b59efe09e502"
      },
      "execution_count": null,
      "outputs": [
        {
          "output_type": "stream",
          "name": "stderr",
          "text": [
            "WARNING:gensim.models.base_any2vec:consider setting layer size to a multiple of 4 for greater performance\n",
            "WARNING:gensim.models.base_any2vec:under 10 jobs per worker: consider setting a smaller `batch_words' for smoother alpha decay\n"
          ]
        },
        {
          "output_type": "stream",
          "name": "stdout",
          "text": [
            "Word2Vec(vocab=79, size=50, alpha=0.025)\n"
          ]
        }
      ]
    },
    {
      "cell_type": "code",
      "source": [
        "words=(model.wv.vocab).keys()\n",
        "print(words)"
      ],
      "metadata": {
        "colab": {
          "base_uri": "https://localhost:8080/"
        },
        "id": "qksf2IONKBlk",
        "outputId": "77f062aa-fb21-4963-b2d2-669e006e4d7d"
      },
      "execution_count": null,
      "outputs": [
        {
          "output_type": "stream",
          "name": "stdout",
          "text": [
            "dict_keys(['Manchester', 'United', 'record', '20', 'League', 'titles', '12', 'FA', 'Cups', 'five', '21', 'Community', 'Shields', 'They', 'European', 'Cup/UEFA', 'Champions', 'three', 'times', 'UEFA', 'Europa', 'Cup', 'Winners', 'Super', 'Intercontinental', 'FIFA', 'Club', 'World', 'each', '56', 'In', '1968', 'management', 'Matt', 'Busby', '10', 'years', 'eight', 'clubs', 'players', 'killed', 'Munich', 'air', 'disaster', 'became', 'first', 'English', 'club', 'win', 'Alex', 'Ferguson', 'longest-serving', 'successful', 'manager', 'winning', '38', 'trophies', 'including', '13', 'league', '5', '2', '1986', '2013', '789', '1998–99', 'season', 'history', 'football', 'achieve', 'treble', 'Premier', 'José', 'Mourinho', '2016–17', 'one', 'original', 'main', 'competitions'])\n"
          ]
        }
      ]
    },
    {
      "cell_type": "code",
      "source": [
        "words"
      ],
      "metadata": {
        "colab": {
          "base_uri": "https://localhost:8080/"
        },
        "id": "kj3ibyXRLD-J",
        "outputId": "96234e15-db1f-48bd-d5fe-4eba3ace462f"
      },
      "execution_count": null,
      "outputs": [
        {
          "output_type": "execute_result",
          "data": {
            "text/plain": [
              "dict_keys(['Manchester', 'United', 'record', '20', 'League', 'titles', '12', 'FA', 'Cups', 'five', '21', 'Community', 'Shields', 'They', 'European', 'Cup/UEFA', 'Champions', 'three', 'times', 'UEFA', 'Europa', 'Cup', 'Winners', 'Super', 'Intercontinental', 'FIFA', 'Club', 'World', 'each', '56', 'In', '1968', 'management', 'Matt', 'Busby', '10', 'years', 'eight', 'clubs', 'players', 'killed', 'Munich', 'air', 'disaster', 'became', 'first', 'English', 'club', 'win', 'Alex', 'Ferguson', 'longest-serving', 'successful', 'manager', 'winning', '38', 'trophies', 'including', '13', 'league', '5', '2', '1986', '2013', '789', '1998–99', 'season', 'history', 'football', 'achieve', 'treble', 'Premier', 'José', 'Mourinho', '2016–17', 'one', 'original', 'main', 'competitions'])"
            ]
          },
          "metadata": {},
          "execution_count": 56
        }
      ]
    },
    {
      "cell_type": "code",
      "source": [
        "model.similarity('Manchester','English')\n",
        "model.most_similar('Manchester')[:2]"
      ],
      "metadata": {
        "colab": {
          "base_uri": "https://localhost:8080/"
        },
        "id": "xaYisZkoLZn2",
        "outputId": "9ec4d3b5-a914-4fd5-cda6-071439b55505"
      },
      "execution_count": null,
      "outputs": [
        {
          "output_type": "stream",
          "name": "stderr",
          "text": [
            "/usr/local/lib/python3.7/dist-packages/ipykernel_launcher.py:1: DeprecationWarning: Call to deprecated `similarity` (Method will be removed in 4.0.0, use self.wv.similarity() instead).\n",
            "  \"\"\"Entry point for launching an IPython kernel.\n",
            "/usr/local/lib/python3.7/dist-packages/ipykernel_launcher.py:2: DeprecationWarning: Call to deprecated `most_similar` (Method will be removed in 4.0.0, use self.wv.most_similar() instead).\n",
            "  \n"
          ]
        },
        {
          "output_type": "execute_result",
          "data": {
            "text/plain": [
              "[('Cup/UEFA', 0.3697231709957123), ('club', 0.3282555341720581)]"
            ]
          },
          "metadata": {},
          "execution_count": 57
        }
      ]
    },
    {
      "cell_type": "code",
      "source": [
        "for i in model.wv.vocab.keys():\n",
        "  print(model[i])"
      ],
      "metadata": {
        "id": "jA5YpzZJLiTp"
      },
      "execution_count": null,
      "outputs": []
    },
    {
      "cell_type": "code",
      "source": [],
      "metadata": {
        "id": "YhMXQeDWMP_L"
      },
      "execution_count": null,
      "outputs": []
    },
    {
      "cell_type": "code",
      "source": [
        "text=['this is the NLP tasks ARTICLE written by abhishek Jaiswal**','IN this article I\"ll be explining  various DATA-CLEANING techniques',\n",
        "      'So stay tuned for FURTHER More &&','NahI don\"t think he goes to usf,he lives around' ]\n",
        "txt=\"\"\n",
        "for i in text:\n",
        "  txt+=i\n",
        "  txt+=\".\"\n",
        "txt"
      ],
      "metadata": {
        "colab": {
          "base_uri": "https://localhost:8080/",
          "height": 53
        },
        "id": "OJRIxoKgl8Rj",
        "outputId": "389c68b7-7cb6-4242-f1a2-152080cd5588"
      },
      "execution_count": null,
      "outputs": [
        {
          "output_type": "execute_result",
          "data": {
            "text/plain": [
              "'this is the NLP tasks ARTICLE written by abhishek Jaiswal**.IN this article I\"ll be explining  various DATA-CLEANING techniques.So stay tuned for FURTHER More &&.NahI don\"t think he goes to usf,he lives around.'"
            ],
            "application/vnd.google.colaboratory.intrinsic+json": {
              "type": "string"
            }
          },
          "metadata": {},
          "execution_count": 63
        }
      ]
    },
    {
      "cell_type": "code",
      "source": [],
      "metadata": {
        "id": "2kHZGvBDl79P"
      },
      "execution_count": null,
      "outputs": []
    },
    {
      "cell_type": "code",
      "source": [
        "# spelling correction\n",
        "\n",
        "!pip install textblob\n",
        "from textblob import TextBlob\n",
        "df['lower']=df['lower'].apply (lambda x: str(TextBlob(x).correct()))\n",
        "df"
      ],
      "metadata": {
        "id": "9pmV0SQtlQUy"
      },
      "execution_count": null,
      "outputs": []
    },
    {
      "cell_type": "code",
      "source": [
        "import nltk\n",
        "from nltk.stem import PorterStemmer\n",
        "st=PorterStemmer()\n",
        "df['lower']=df['lower'].apply(lambda x:\" \".join([st.stem(word) for word in x.split()]))\n",
        "df['lower']"
      ],
      "metadata": {
        "id": "va-kcR4FYKCU"
      },
      "execution_count": null,
      "outputs": []
    },
    {
      "cell_type": "code",
      "source": [
        "from wordcloud import WordCloud\n",
        "from wordcloud import STOPWORDS\n",
        "import matplotlib.pyplot as plt\n",
        "\n"
      ],
      "metadata": {
        "id": "72JRpG1VlZov"
      },
      "execution_count": null,
      "outputs": []
    },
    {
      "cell_type": "code",
      "source": [
        "words=[]\n",
        "for message in df['lower']:\n",
        "  words.extend([word for word in message.split()])\n",
        "words\n",
        "  \n",
        "wordcloud=WordCloud(width=1000,height=500).generate(\" \".join(words))\n",
        "plt.imshow(wordcloud,interpolation='bilinear')\n",
        "plt.axis(\"off\")\n",
        "plt.show()"
      ],
      "metadata": {
        "id": "6qXVpb8alcwj"
      },
      "execution_count": null,
      "outputs": []
    }
  ]
}