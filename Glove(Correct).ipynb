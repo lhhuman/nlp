{
  "nbformat": 4,
  "nbformat_minor": 0,
  "metadata": {
    "colab": {
      "provenance": [],
      "collapsed_sections": []
    },
    "kernelspec": {
      "name": "python3",
      "display_name": "Python 3"
    },
    "language_info": {
      "name": "python"
    }
  },
  "cells": [
    {
      "cell_type": "code",
      "execution_count": null,
      "metadata": {
        "id": "CcsDCiONkYen"
      },
      "outputs": [],
      "source": [
        "!pip install glove-python-binary"
      ]
    },
    {
      "cell_type": "code",
      "source": [
        "txt=open(\"/content/news.txt\",\"r\").read()"
      ],
      "metadata": {
        "id": "Npr7Y_Nik7-a"
      },
      "execution_count": null,
      "outputs": []
    },
    {
      "cell_type": "code",
      "source": [
        "punct=''',;'[]{}()\\|!$%^&*?><:`~'''\n",
        "nopun=\"\"\n",
        "for i in txt:\n",
        "  if i not in punct:\n",
        "    nopun+=i\n",
        "nopun"
      ],
      "metadata": {
        "id": "Pz67KKBJmgTe"
      },
      "execution_count": null,
      "outputs": []
    },
    {
      "cell_type": "code",
      "source": [
        "nopun"
      ],
      "metadata": {
        "id": "HQbPgOlVnvvk"
      },
      "execution_count": null,
      "outputs": []
    },
    {
      "cell_type": "code",
      "source": [
        "import nltk\n",
        "nltk.download('stopwords')\n",
        "from nltk.corpus import stopwords \n",
        "allstopwords=stopwords.words('english') #not completed\n",
        "newstring=''\n",
        "for i in nopun.split():\n",
        "  if i not in allstopwords:\n",
        "    newstring+=i+\" \"\n",
        "newstring"
      ],
      "metadata": {
        "id": "UIW5qdWPszj6"
      },
      "execution_count": null,
      "outputs": []
    },
    {
      "cell_type": "code",
      "source": [
        "newstring"
      ],
      "metadata": {
        "id": "WKeYth1Ns91a"
      },
      "execution_count": null,
      "outputs": []
    },
    {
      "cell_type": "code",
      "source": [
        "new=newstring.split(\".\")\n",
        "new.pop()\n",
        "new"
      ],
      "metadata": {
        "id": "5iEMUVpmn4Fy"
      },
      "execution_count": null,
      "outputs": []
    },
    {
      "cell_type": "code",
      "source": [
        "import nltk\n",
        "nltk.download(\"punkt\")\n",
        "word_token_list=[]\n",
        "for i in new:\n",
        "  list=nltk.word_tokenize(i)\n",
        "  word_token_list.append(list)\n",
        "word_token_list"
      ],
      "metadata": {
        "id": "DjmtGJM3ou37"
      },
      "execution_count": null,
      "outputs": []
    },
    {
      "cell_type": "code",
      "source": [
        "import glove \n",
        "from glove import Glove, Corpus\n",
        "\n",
        "corpus = Corpus() \n",
        "corpus.fit(word_token_list, window=10)\n",
        "\n",
        "glove = Glove(no_components=5, learning_rate=0.05)\n",
        " \n",
        "glove.fit(corpus.matrix, epochs=30, no_threads=4, verbose=True)\n",
        "glove.add_dictionary(corpus.dictionary)\n",
        "glove.save('glove.model')"
      ],
      "metadata": {
        "id": "dPqQahULsTuy"
      },
      "execution_count": null,
      "outputs": []
    },
    {
      "cell_type": "code",
      "source": [
        "glove.most_similar('United')"
      ],
      "metadata": {
        "id": "A_X9Tt7E-s6L"
      },
      "execution_count": null,
      "outputs": []
    },
    {
      "cell_type": "code",
      "source": [
        "glove.dictionary.keys()"
      ],
      "metadata": {
        "id": "aoBACT-BCp6F"
      },
      "execution_count": null,
      "outputs": []
    },
    {
      "cell_type": "code",
      "source": [
        "glove.word_vectors[glove.dictionary[\"Manchester\"]]\n"
      ],
      "metadata": {
        "id": "6oGA97Mz-4XE"
      },
      "execution_count": null,
      "outputs": []
    },
    {
      "cell_type": "code",
      "source": [
        "for i in glove.dictionary.keys():\n",
        "  wv=glove.word_vectors[glove.dictionary[i]]\n",
        "  print(i,wv)"
      ],
      "metadata": {
        "id": "zw-37L2EBPA3"
      },
      "execution_count": null,
      "outputs": []
    },
    {
      "cell_type": "code",
      "source": [
        "import gensim\n",
        "from gensim.models import Word2Vec"
      ],
      "metadata": {
        "id": "ItEzQmMkDkzd"
      },
      "execution_count": null,
      "outputs": []
    },
    {
      "cell_type": "code",
      "source": [
        "\n",
        "model=Word2Vec(word_token_list,min_count=1,size=50,window=3,sg=1)\n",
        "print(model)"
      ],
      "metadata": {
        "id": "azLa1xPeJ0B2"
      },
      "execution_count": null,
      "outputs": []
    },
    {
      "cell_type": "code",
      "source": [
        "words=(model.wv.vocab).keys()\n",
        "print(words)"
      ],
      "metadata": {
        "id": "qksf2IONKBlk"
      },
      "execution_count": null,
      "outputs": []
    },
    {
      "cell_type": "code",
      "source": [
        "words"
      ],
      "metadata": {
        "id": "kj3ibyXRLD-J"
      },
      "execution_count": null,
      "outputs": []
    },
    {
      "cell_type": "code",
      "source": [
        "model.similarity('Manchester','English')\n",
        "model.most_similar('Manchester')[:2]"
      ],
      "metadata": {
        "id": "xaYisZkoLZn2"
      },
      "execution_count": null,
      "outputs": []
    },
    {
      "cell_type": "code",
      "source": [
        "for i in model.wv.vocab.keys():\n",
        "  print(model[i])"
      ],
      "metadata": {
        "id": "jA5YpzZJLiTp"
      },
      "execution_count": null,
      "outputs": []
    },
    {
      "cell_type": "code",
      "source": [],
      "metadata": {
        "id": "YhMXQeDWMP_L"
      },
      "execution_count": null,
      "outputs": []
    },
    {
      "cell_type": "code",
      "source": [
        "text=['this is the NLP tasks ARTICLE written by abhishek Jaiswal**','IN this article I\"ll be explining  various DATA-CLEANING techniques',\n",
        "      'So stay tuned for FURTHER More &&','NahI don\"t think he goes to usf,he lives around' ]\n",
        "txt=\"\"\n",
        "for i in text:\n",
        "  txt+=i\n",
        "  txt+=\".\"\n",
        "txt"
      ],
      "metadata": {
        "id": "OJRIxoKgl8Rj"
      },
      "execution_count": null,
      "outputs": []
    },
    {
      "cell_type": "code",
      "source": [],
      "metadata": {
        "id": "2kHZGvBDl79P"
      },
      "execution_count": null,
      "outputs": []
    },
    {
      "cell_type": "code",
      "source": [
        "# spelling correction\n",
        "\n",
        "!pip install textblob\n",
        "from textblob import TextBlob\n",
        "df['lower']=df['lower'].apply (lambda x: str(TextBlob(x).correct()))\n",
        "df"
      ],
      "metadata": {
        "id": "9pmV0SQtlQUy"
      },
      "execution_count": null,
      "outputs": []
    },
    {
      "cell_type": "code",
      "source": [
        "import nltk\n",
        "from nltk.stem import PorterStemmer\n",
        "st=PorterStemmer()\n",
        "df['lower']=df['lower'].apply(lambda x:\" \".join([st.stem(word) for word in x.split()]))\n",
        "df['lower']"
      ],
      "metadata": {
        "id": "va-kcR4FYKCU"
      },
      "execution_count": null,
      "outputs": []
    },
    {
      "cell_type": "code",
      "source": [
        "from wordcloud import WordCloud\n",
        "from wordcloud import STOPWORDS\n",
        "import matplotlib.pyplot as plt\n",
        "\n"
      ],
      "metadata": {
        "id": "72JRpG1VlZov"
      },
      "execution_count": null,
      "outputs": []
    },
    {
      "cell_type": "code",
      "source": [
        "words=[]\n",
        "for message in df['lower']:\n",
        "  words.extend([word for word in message.split()])\n",
        "words\n",
        "  \n",
        "wordcloud=WordCloud(width=1000,height=500).generate(\" \".join(words))\n",
        "plt.imshow(wordcloud,interpolation='bilinear')\n",
        "plt.axis(\"off\")\n",
        "plt.show()"
      ],
      "metadata": {
        "id": "6qXVpb8alcwj"
      },
      "execution_count": null,
      "outputs": []
    }
  ]
}