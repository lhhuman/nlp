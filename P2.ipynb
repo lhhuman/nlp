{
  "nbformat": 4,
  "nbformat_minor": 0,
  "metadata": {
    "colab": {
      "provenance": [],
      "collapsed_sections": [
        "kaSO9CTeDXr8",
        "AniZdeXqDu9y",
        "P1a0fUGSo418",
        "WPYPsUuIpBQJ",
        "1oRhYJFypPSb",
        "39w_NRmYp5xr",
        "ruZCYXehzbvV",
        "Ogl4PxsIzhHd",
        "cYBYg3VGzi4r",
        "b-Lbe11sAbUj",
        "I8bC6iVlIobe"
      ]
    },
    "kernelspec": {
      "name": "python3",
      "display_name": "Python 3"
    },
    "language_info": {
      "name": "python"
    },
    "accelerator": "GPU",
    "gpuClass": "standard"
  },
  "cells": [
    {
      "cell_type": "code",
      "source": [],
      "metadata": {
        "id": "3nNIx-VJF_sI"
      },
      "execution_count": null,
      "outputs": []
    },
    {
      "cell_type": "code",
      "source": [],
      "metadata": {
        "id": "G2w3OJ6ZF_D-"
      },
      "execution_count": null,
      "outputs": []
    },
    {
      "cell_type": "code",
      "source": [],
      "metadata": {
        "id": "kyX5yR0QF_Bn"
      },
      "execution_count": null,
      "outputs": []
    },
    {
      "cell_type": "code",
      "source": [],
      "metadata": {
        "id": "FMVBQ0AhF-_v"
      },
      "execution_count": null,
      "outputs": []
    },
    {
      "cell_type": "code",
      "source": [],
      "metadata": {
        "id": "VpHmvuwjHJmS"
      },
      "execution_count": null,
      "outputs": []
    },
    {
      "cell_type": "code",
      "source": [],
      "metadata": {
        "id": "fYTG1SwbHJhh"
      },
      "execution_count": null,
      "outputs": []
    },
    {
      "cell_type": "code",
      "source": [],
      "metadata": {
        "id": "Lw_o61W2HJeF"
      },
      "execution_count": null,
      "outputs": []
    },
    {
      "cell_type": "code",
      "source": [],
      "metadata": {
        "id": "O6BHFbL1HJWx"
      },
      "execution_count": null,
      "outputs": []
    },
    {
      "cell_type": "code",
      "source": [],
      "metadata": {
        "id": "qt7tI_aZHJTQ"
      },
      "execution_count": null,
      "outputs": []
    },
    {
      "cell_type": "code",
      "source": [],
      "metadata": {
        "id": "a-1osXwtHJRD"
      },
      "execution_count": null,
      "outputs": []
    },
    {
      "cell_type": "code",
      "source": [],
      "metadata": {
        "id": "Opt6bSnMF-9Q"
      },
      "execution_count": null,
      "outputs": []
    },
    {
      "cell_type": "code",
      "source": [],
      "metadata": {
        "id": "POsvfVoWF-68"
      },
      "execution_count": null,
      "outputs": []
    },
    {
      "cell_type": "code",
      "source": [],
      "metadata": {
        "id": "kOqwc9mJF-4-"
      },
      "execution_count": null,
      "outputs": []
    },
    {
      "cell_type": "code",
      "source": [],
      "metadata": {
        "id": "T9jSBPryF-2X"
      },
      "execution_count": null,
      "outputs": []
    },
    {
      "cell_type": "markdown",
      "source": [
        "##Import"
      ],
      "metadata": {
        "id": "kaSO9CTeDXr8"
      }
    },
    {
      "cell_type": "code",
      "execution_count": null,
      "metadata": {
        "id": "fqgLY0VssWLx"
      },
      "outputs": [],
      "source": [
        "import tensorflow as tf\n",
        "import pandas as pd\n",
        "from keras.preprocessing.text import Tokenizer\n",
        "from tensorflow import keras\n",
        "import numpy as np\n",
        "import matplotlib.pyplot as plt\n",
        "from keras_preprocessing.sequence import pad_sequences\n",
        "from sklearn.feature_extraction.text import CountVectorizer\n",
        "from tensorflow.keras.models import Sequential\n",
        "from tensorflow.keras.layers import Dense, Dropout, LSTM, SimpleRNN, Conv1D,Embedding,Flatten,GlobalMaxPooling1D, Conv2D, MaxPooling2D"
      ]
    },
    {
      "cell_type": "code",
      "source": [
        "filepath = '/content/drive/MyDrive/Colab Notebooks/yelp_labelled.txt'\n",
        "df = pd.read_csv(filepath, names=['Review', 'label'], sep='\\t')\n",
        "df"
      ],
      "metadata": {
        "colab": {
          "base_uri": "https://localhost:8080/",
          "height": 424
        },
        "id": "tOcnOhDNfH2f",
        "outputId": "768d0992-30a1-485c-9e68-4d834ea9d1e3"
      },
      "execution_count": null,
      "outputs": [
        {
          "output_type": "execute_result",
          "data": {
            "text/plain": [
              "                                                Review  label\n",
              "0                             Wow... Loved this place.      1\n",
              "1                                   Crust is not good.      0\n",
              "2            Not tasty and the texture was just nasty.      0\n",
              "3    Stopped by during the late May bank holiday of...      1\n",
              "4    The selection on the menu was great and so wer...      1\n",
              "..                                                 ...    ...\n",
              "995  I think food should have flavor and texture an...      0\n",
              "996                           Appetite instantly gone.      0\n",
              "997  Overall I was not impressed and would not go b...      0\n",
              "998  The whole experience was underwhelming, and I ...      0\n",
              "999  Then, as if I hadn't wasted enough of my life ...      0\n",
              "\n",
              "[1000 rows x 2 columns]"
            ],
            "text/html": [
              "\n",
              "  <div id=\"df-a5a68b16-0f7d-40a3-9e2d-42e5e4a8d051\">\n",
              "    <div class=\"colab-df-container\">\n",
              "      <div>\n",
              "<style scoped>\n",
              "    .dataframe tbody tr th:only-of-type {\n",
              "        vertical-align: middle;\n",
              "    }\n",
              "\n",
              "    .dataframe tbody tr th {\n",
              "        vertical-align: top;\n",
              "    }\n",
              "\n",
              "    .dataframe thead th {\n",
              "        text-align: right;\n",
              "    }\n",
              "</style>\n",
              "<table border=\"1\" class=\"dataframe\">\n",
              "  <thead>\n",
              "    <tr style=\"text-align: right;\">\n",
              "      <th></th>\n",
              "      <th>Review</th>\n",
              "      <th>label</th>\n",
              "    </tr>\n",
              "  </thead>\n",
              "  <tbody>\n",
              "    <tr>\n",
              "      <th>0</th>\n",
              "      <td>Wow... Loved this place.</td>\n",
              "      <td>1</td>\n",
              "    </tr>\n",
              "    <tr>\n",
              "      <th>1</th>\n",
              "      <td>Crust is not good.</td>\n",
              "      <td>0</td>\n",
              "    </tr>\n",
              "    <tr>\n",
              "      <th>2</th>\n",
              "      <td>Not tasty and the texture was just nasty.</td>\n",
              "      <td>0</td>\n",
              "    </tr>\n",
              "    <tr>\n",
              "      <th>3</th>\n",
              "      <td>Stopped by during the late May bank holiday of...</td>\n",
              "      <td>1</td>\n",
              "    </tr>\n",
              "    <tr>\n",
              "      <th>4</th>\n",
              "      <td>The selection on the menu was great and so wer...</td>\n",
              "      <td>1</td>\n",
              "    </tr>\n",
              "    <tr>\n",
              "      <th>...</th>\n",
              "      <td>...</td>\n",
              "      <td>...</td>\n",
              "    </tr>\n",
              "    <tr>\n",
              "      <th>995</th>\n",
              "      <td>I think food should have flavor and texture an...</td>\n",
              "      <td>0</td>\n",
              "    </tr>\n",
              "    <tr>\n",
              "      <th>996</th>\n",
              "      <td>Appetite instantly gone.</td>\n",
              "      <td>0</td>\n",
              "    </tr>\n",
              "    <tr>\n",
              "      <th>997</th>\n",
              "      <td>Overall I was not impressed and would not go b...</td>\n",
              "      <td>0</td>\n",
              "    </tr>\n",
              "    <tr>\n",
              "      <th>998</th>\n",
              "      <td>The whole experience was underwhelming, and I ...</td>\n",
              "      <td>0</td>\n",
              "    </tr>\n",
              "    <tr>\n",
              "      <th>999</th>\n",
              "      <td>Then, as if I hadn't wasted enough of my life ...</td>\n",
              "      <td>0</td>\n",
              "    </tr>\n",
              "  </tbody>\n",
              "</table>\n",
              "<p>1000 rows × 2 columns</p>\n",
              "</div>\n",
              "      <button class=\"colab-df-convert\" onclick=\"convertToInteractive('df-a5a68b16-0f7d-40a3-9e2d-42e5e4a8d051')\"\n",
              "              title=\"Convert this dataframe to an interactive table.\"\n",
              "              style=\"display:none;\">\n",
              "        \n",
              "  <svg xmlns=\"http://www.w3.org/2000/svg\" height=\"24px\"viewBox=\"0 0 24 24\"\n",
              "       width=\"24px\">\n",
              "    <path d=\"M0 0h24v24H0V0z\" fill=\"none\"/>\n",
              "    <path d=\"M18.56 5.44l.94 2.06.94-2.06 2.06-.94-2.06-.94-.94-2.06-.94 2.06-2.06.94zm-11 1L8.5 8.5l.94-2.06 2.06-.94-2.06-.94L8.5 2.5l-.94 2.06-2.06.94zm10 10l.94 2.06.94-2.06 2.06-.94-2.06-.94-.94-2.06-.94 2.06-2.06.94z\"/><path d=\"M17.41 7.96l-1.37-1.37c-.4-.4-.92-.59-1.43-.59-.52 0-1.04.2-1.43.59L10.3 9.45l-7.72 7.72c-.78.78-.78 2.05 0 2.83L4 21.41c.39.39.9.59 1.41.59.51 0 1.02-.2 1.41-.59l7.78-7.78 2.81-2.81c.8-.78.8-2.07 0-2.86zM5.41 20L4 18.59l7.72-7.72 1.47 1.35L5.41 20z\"/>\n",
              "  </svg>\n",
              "      </button>\n",
              "      \n",
              "  <style>\n",
              "    .colab-df-container {\n",
              "      display:flex;\n",
              "      flex-wrap:wrap;\n",
              "      gap: 12px;\n",
              "    }\n",
              "\n",
              "    .colab-df-convert {\n",
              "      background-color: #E8F0FE;\n",
              "      border: none;\n",
              "      border-radius: 50%;\n",
              "      cursor: pointer;\n",
              "      display: none;\n",
              "      fill: #1967D2;\n",
              "      height: 32px;\n",
              "      padding: 0 0 0 0;\n",
              "      width: 32px;\n",
              "    }\n",
              "\n",
              "    .colab-df-convert:hover {\n",
              "      background-color: #E2EBFA;\n",
              "      box-shadow: 0px 1px 2px rgba(60, 64, 67, 0.3), 0px 1px 3px 1px rgba(60, 64, 67, 0.15);\n",
              "      fill: #174EA6;\n",
              "    }\n",
              "\n",
              "    [theme=dark] .colab-df-convert {\n",
              "      background-color: #3B4455;\n",
              "      fill: #D2E3FC;\n",
              "    }\n",
              "\n",
              "    [theme=dark] .colab-df-convert:hover {\n",
              "      background-color: #434B5C;\n",
              "      box-shadow: 0px 1px 3px 1px rgba(0, 0, 0, 0.15);\n",
              "      filter: drop-shadow(0px 1px 2px rgba(0, 0, 0, 0.3));\n",
              "      fill: #FFFFFF;\n",
              "    }\n",
              "  </style>\n",
              "\n",
              "      <script>\n",
              "        const buttonEl =\n",
              "          document.querySelector('#df-a5a68b16-0f7d-40a3-9e2d-42e5e4a8d051 button.colab-df-convert');\n",
              "        buttonEl.style.display =\n",
              "          google.colab.kernel.accessAllowed ? 'block' : 'none';\n",
              "\n",
              "        async function convertToInteractive(key) {\n",
              "          const element = document.querySelector('#df-a5a68b16-0f7d-40a3-9e2d-42e5e4a8d051');\n",
              "          const dataTable =\n",
              "            await google.colab.kernel.invokeFunction('convertToInteractive',\n",
              "                                                     [key], {});\n",
              "          if (!dataTable) return;\n",
              "\n",
              "          const docLinkHtml = 'Like what you see? Visit the ' +\n",
              "            '<a target=\"_blank\" href=https://colab.research.google.com/notebooks/data_table.ipynb>data table notebook</a>'\n",
              "            + ' to learn more about interactive tables.';\n",
              "          element.innerHTML = '';\n",
              "          dataTable['output_type'] = 'display_data';\n",
              "          await google.colab.output.renderOutput(dataTable, element);\n",
              "          const docLink = document.createElement('div');\n",
              "          docLink.innerHTML = docLinkHtml;\n",
              "          element.appendChild(docLink);\n",
              "        }\n",
              "      </script>\n",
              "    </div>\n",
              "  </div>\n",
              "  "
            ]
          },
          "metadata": {},
          "execution_count": 49
        }
      ]
    },
    {
      "cell_type": "markdown",
      "source": [
        "##Preprocessing\n"
      ],
      "metadata": {
        "id": "AniZdeXqDu9y"
      }
    },
    {
      "cell_type": "code",
      "source": [
        "# imdbds['review'] =imdbds['review'].str.lower() \n",
        "\n",
        "# labelencoder = LabelEncoder()\n",
        "# imdbds['sentiment'] = labelencoder.fit_transform(imdbds['sentiment'])\n",
        "\n",
        "# #Clean Data\n",
        "# import nltk      \n",
        "# nltk.download('stopwords')\n",
        "# from nltk.corpus import stopwords \n",
        "# allstopwords=stopwords.words('english')\n",
        "# imdbds['review']=imdbds['review'].apply(lambda x:\" \".join(i for i in x.split() if i not in allstopwords))\n",
        "# imdbds['review']\n",
        "\n",
        "# import re\n",
        "# imdbds['review']=imdbds['review'].apply(lambda x:''.join(re.findall(r'[a-zA-Z+\" \"]',x)))\n",
        "# imdbds['review']"
      ],
      "metadata": {
        "id": "bjoLKIGwDxiJ"
      },
      "execution_count": null,
      "outputs": []
    },
    {
      "cell_type": "markdown",
      "source": [
        "##Train and Test"
      ],
      "metadata": {
        "id": "P1a0fUGSo418"
      }
    },
    {
      "cell_type": "code",
      "source": [
        "from sklearn.model_selection import train_test_split\n",
        "review = df['Review'].values\n",
        "y=df['label'].values\n",
        "review_train, review_test, y_train, y_test  = train_test_split(review, y, test_size= 0.25, random_state=1000)\n"
      ],
      "metadata": {
        "id": "yqzZ1JfDfUER"
      },
      "execution_count": null,
      "outputs": []
    },
    {
      "cell_type": "code",
      "source": [
        "vectorizer = CountVectorizer()\n",
        "vectorizer.fit(review_train)\n",
        "\n",
        "X_train = vectorizer.transform(review_train)\n",
        "X_test = vectorizer.transform(review_test)\n",
        "X_train"
      ],
      "metadata": {
        "colab": {
          "base_uri": "https://localhost:8080/"
        },
        "id": "W3cMorx1fc4-",
        "outputId": "55972a93-9a12-4ea1-c229-bb904bbca149"
      },
      "execution_count": null,
      "outputs": [
        {
          "output_type": "execute_result",
          "data": {
            "text/plain": [
              "<750x1714 sparse matrix of type '<class 'numpy.int64'>'\n",
              "\twith 7368 stored elements in Compressed Sparse Row format>"
            ]
          },
          "metadata": {},
          "execution_count": 51
        }
      ]
    },
    {
      "cell_type": "code",
      "source": [
        "def print_accuracy(model_name):\n",
        "  loss, accuracy = model_name.evaluate(X_train, y_train,verbose=False )\n",
        "  print(\"Training Accuracy : \", format(accuracy))\n",
        "\n",
        "  loss, accuracy = model_name.evaluate(X_test, y_test,verbose=False)\n",
        "  print(\"Test Accuracy : \", format(accuracy))"
      ],
      "metadata": {
        "id": "KoPcftZmgcUI"
      },
      "execution_count": null,
      "outputs": []
    },
    {
      "cell_type": "markdown",
      "source": [
        "##Model 1 ANN"
      ],
      "metadata": {
        "id": "WPYPsUuIpBQJ"
      }
    },
    {
      "cell_type": "code",
      "source": [
        "def model1ANN():\n",
        "  print(\"Model 1 ANN\")\n",
        "  input_dim = X_train.shape[1]\n",
        "  model1 = Sequential()\n",
        "  model1.add(Dense(10, input_dim = input_dim, activation='relu'))\n",
        "  model1.add(Dense(1, activation='sigmoid'))\n",
        "  model1.compile(loss='binary_crossentropy', optimizer='adam', metrics=['accuracy'])\n",
        "  model1.fit(X_train, y_train,epochs=10,verbose=False,validation_data=(X_test, y_test),batch_size=10)\n",
        "  print_accuracy(model1)"
      ],
      "metadata": {
        "id": "751WLBrafrXi"
      },
      "execution_count": null,
      "outputs": []
    },
    {
      "cell_type": "code",
      "source": [
        "model1ANN()"
      ],
      "metadata": {
        "colab": {
          "base_uri": "https://localhost:8080/"
        },
        "id": "gjKmcHumjwJH",
        "outputId": "52b3d290-677f-4f69-adf6-e5ebcb5b6f8f"
      },
      "execution_count": null,
      "outputs": [
        {
          "output_type": "stream",
          "name": "stdout",
          "text": [
            "Model 1 ANN\n"
          ]
        },
        {
          "output_type": "stream",
          "name": "stderr",
          "text": [
            "/usr/local/lib/python3.8/dist-packages/tensorflow/python/framework/indexed_slices.py:444: UserWarning: Converting sparse IndexedSlices(IndexedSlices(indices=Tensor(\"gradient_tape/sequential_7/dense_10/embedding_lookup_sparse/Reshape_1:0\", shape=(None,), dtype=int32), values=Tensor(\"gradient_tape/sequential_7/dense_10/embedding_lookup_sparse/Reshape:0\", shape=(None, 10), dtype=float32), dense_shape=Tensor(\"gradient_tape/sequential_7/dense_10/embedding_lookup_sparse/Cast:0\", shape=(2,), dtype=int32))) to a dense Tensor of unknown shape. This may consume a large amount of memory.\n",
            "  warnings.warn(\n"
          ]
        },
        {
          "output_type": "stream",
          "name": "stdout",
          "text": [
            "Training Accuracy :  0.9893333315849304\n",
            "Test Accuracy :  0.7919999957084656\n"
          ]
        }
      ]
    },
    {
      "cell_type": "markdown",
      "source": [
        "##Model 2 Embedding ANN"
      ],
      "metadata": {
        "id": "1oRhYJFypPSb"
      }
    },
    {
      "cell_type": "code",
      "source": [],
      "metadata": {
        "id": "mrBIoj2DlYLk"
      },
      "execution_count": null,
      "outputs": []
    },
    {
      "cell_type": "code",
      "source": [
        "tokenizer = Tokenizer(num_words = 5000)\n",
        "tokenizer.fit_on_texts(review_train)\n",
        "X_train = tokenizer.texts_to_sequences(review_train)\n",
        "X_test = tokenizer.texts_to_sequences(review_test)\n",
        "vocab_size = len(tokenizer.word_index) + 1\n",
        "maxlen = 100\n",
        "X_train = pad_sequences(X_train, padding='post', maxlen=maxlen)\n",
        "X_test = pad_sequences(X_test, padding='post', maxlen=maxlen)\n",
        "# print(review_train[500])\n",
        "# print(X_train[500])\n",
        "# print(vocab_size)"
      ],
      "metadata": {
        "id": "AW7prl7Wlezm"
      },
      "execution_count": null,
      "outputs": []
    },
    {
      "cell_type": "code",
      "source": [
        "def model2():\n",
        "  print(\"\")\n",
        "  print(\"Model 2 Embedding ANN\")\n",
        "  print(\"\")\n",
        "  embedding_dem = 50\n",
        "  model2 = Sequential()\n",
        "  model2.add(Embedding( input_dim = vocab_size,output_dim=embedding_dem,input_length=maxlen))\n",
        "  model2.add(Flatten())\n",
        "  model2.add(Dense(10,  activation='relu'))\n",
        "  model2.add(Dense(1, activation='sigmoid'))\n",
        "  model2.compile(loss='binary_crossentropy', optimizer='adam', metrics=['accuracy'])\n",
        "  model2.fit(X_train, y_train, epochs=10,verbose=False,validation_data=(X_test, y_test),batch_size=10)\n",
        "  print_accuracy(model2)"
      ],
      "metadata": {
        "id": "sHGxIlFMmpFj"
      },
      "execution_count": null,
      "outputs": []
    },
    {
      "cell_type": "markdown",
      "source": [
        "##Model 3 - CNN"
      ],
      "metadata": {
        "id": "39w_NRmYp5xr"
      }
    },
    {
      "cell_type": "code",
      "source": [
        "def model3():\n",
        "  print(\"\")\n",
        "  print(\"Model 3 CNN\")\n",
        "  print(\"\")\n",
        "  ar1=[32,64,128]\n",
        "  ar2=[3,5,7]\n",
        "  for i in ar1:\n",
        "    for j in ar2:\n",
        "      embedding_dem = 100\n",
        "      model3 = Sequential()\n",
        "      model3.add(Embedding( vocab_size, embedding_dem, input_length=maxlen))\n",
        "      model3.add(Conv1D(i, j, activation='relu'))\n",
        "      model3.add(GlobalMaxPooling1D())\n",
        "      model3.add(Dense(10,  activation='relu'))\n",
        "      model3.add(Dense(1, activation='sigmoid'))\n",
        "      model3.compile(loss='binary_crossentropy', optimizer='adam', metrics=['accuracy'])\n",
        "      model3.fit(X_train, y_train,epochs=50, verbose=False,validation_data=(X_test, y_test),batch_size=10)\n",
        "      print(\"Filter : \",i,\" kernel_size : \",j)\n",
        "      print_accuracy(model3)"
      ],
      "metadata": {
        "id": "Q-f9vRuKqATn"
      },
      "execution_count": null,
      "outputs": []
    },
    {
      "cell_type": "markdown",
      "source": [
        "##Model 4 RNN"
      ],
      "metadata": {
        "id": "ruZCYXehzbvV"
      }
    },
    {
      "cell_type": "code",
      "source": [
        "def model4():\n",
        "  print(\"\")\n",
        "  print(\"Model 4 RNN\")\n",
        "  print(\"\")\n",
        "  embedding_dem = 100\n",
        "  model4 = Sequential()\n",
        "  model4.add(Embedding( vocab_size, embedding_dem, input_length=maxlen))\n",
        "  model4.add(SimpleRNN(128,return_sequences=True))\n",
        "  model4.add(SimpleRNN(128))\n",
        "  model4.add(Dense(10,activation='relu'))\n",
        "  model4.add(Dense(1,activation='softmax'))\n",
        "  model4.compile(loss='binary_crossentropy', optimizer='adam', metrics=['accuracy'])\n",
        "  model4.fit(X_train, y_train,epochs=10,verbose=False,validation_data=(X_test, y_test),batch_size=10)\n",
        "  print_accuracy(model4)"
      ],
      "metadata": {
        "id": "JhDORSt2yREr"
      },
      "execution_count": null,
      "outputs": []
    },
    {
      "cell_type": "markdown",
      "source": [
        "##Model 5 LSTM"
      ],
      "metadata": {
        "id": "Ogl4PxsIzhHd"
      }
    },
    {
      "cell_type": "code",
      "source": [
        "def model5():\n",
        "  print(\"\")\n",
        "  print(\"Model 5 LSTM\")\n",
        "  print(\"\")\n",
        "  embedding_dem = 100\n",
        "  model5 = Sequential()\n",
        "  model5.add(Embedding( vocab_size, embedding_dem, input_length=maxlen))\n",
        "  model5.add(LSTM(128,return_sequences=True))\n",
        "  model5.add(Dropout(0.2))\n",
        "  model5.add(LSTM(128))\n",
        "  model5.add(Dense(10,activation='relu'))\n",
        "  model5.add(Dense(1,activation='softmax'))\n",
        "  model5.compile(loss='binary_crossentropy', optimizer='adam', metrics=['accuracy'])\n",
        "  model5.fit(X_train, y_train,epochs=10,verbose=False,validation_data=(X_test, y_test),batch_size=10)\n",
        "  print_accuracy(model5)\n"
      ],
      "metadata": {
        "id": "7ikJus53zFUM"
      },
      "execution_count": null,
      "outputs": []
    },
    {
      "cell_type": "markdown",
      "source": [
        "##Accuracy"
      ],
      "metadata": {
        "id": "cYBYg3VGzi4r"
      }
    },
    {
      "cell_type": "code",
      "source": [
        "\n",
        "model2()\n",
        "model3()\n",
        "model4()\n",
        "model5()\n"
      ],
      "metadata": {
        "colab": {
          "base_uri": "https://localhost:8080/"
        },
        "id": "E_Gfx_7soPu4",
        "outputId": "01421896-6a7a-4c19-9aa5-2a65b3bbec0f"
      },
      "execution_count": null,
      "outputs": [
        {
          "output_type": "stream",
          "name": "stdout",
          "text": [
            "\n",
            "Model 2 Embedding ANN\n",
            "\n",
            "Training Accuracy :  0.5066666603088379\n",
            "Test Accuracy :  0.47999998927116394\n",
            "\n",
            "Model 3 CNN\n",
            "\n",
            "Filter :  32  kernel_size :  3\n",
            "Training Accuracy :  1.0\n",
            "Test Accuracy :  0.8119999766349792\n",
            "Filter :  32  kernel_size :  5\n",
            "Training Accuracy :  1.0\n",
            "Test Accuracy :  0.8119999766349792\n",
            "Filter :  32  kernel_size :  7\n",
            "Training Accuracy :  0.9973333477973938\n",
            "Test Accuracy :  0.7559999823570251\n",
            "Filter :  64  kernel_size :  3\n",
            "Training Accuracy :  1.0\n",
            "Test Accuracy :  0.8240000009536743\n",
            "Filter :  64  kernel_size :  5\n",
            "Training Accuracy :  1.0\n",
            "Test Accuracy :  0.7960000038146973\n",
            "Filter :  64  kernel_size :  7\n",
            "Training Accuracy :  1.0\n",
            "Test Accuracy :  0.7960000038146973\n",
            "Filter :  128  kernel_size :  3\n",
            "Training Accuracy :  1.0\n",
            "Test Accuracy :  0.7839999794960022\n",
            "Filter :  128  kernel_size :  5\n",
            "Training Accuracy :  1.0\n",
            "Test Accuracy :  0.7799999713897705\n",
            "Filter :  128  kernel_size :  7\n",
            "Training Accuracy :  1.0\n",
            "Test Accuracy :  0.7960000038146973\n",
            "\n",
            "Model 4 RNN\n",
            "\n",
            "Training Accuracy :  0.4933333396911621\n",
            "Test Accuracy :  0.5199999809265137\n",
            "\n",
            "Model 5 LSTM\n",
            "\n",
            "Training Accuracy :  0.4933333396911621\n",
            "Test Accuracy :  0.5199999809265137\n"
          ]
        }
      ]
    },
    {
      "cell_type": "markdown",
      "source": [
        "##ImageCNN"
      ],
      "metadata": {
        "id": "b-Lbe11sAbUj"
      }
    },
    {
      "cell_type": "code",
      "source": [
        "mnist = keras.datasets.mnist"
      ],
      "metadata": {
        "id": "AFlwrkVCAhV3"
      },
      "execution_count": null,
      "outputs": []
    },
    {
      "cell_type": "code",
      "source": [
        "(x_train_full, y_train_full),(x_test, y_test) = mnist.load_data()\n",
        "print(x_train_full.shape)"
      ],
      "metadata": {
        "colab": {
          "base_uri": "https://localhost:8080/"
        },
        "id": "Lp6V_dznAkBc",
        "outputId": "907e6c97-36ff-4686-ac2f-05d3da6685db"
      },
      "execution_count": null,
      "outputs": [
        {
          "output_type": "stream",
          "name": "stdout",
          "text": [
            "Downloading data from https://storage.googleapis.com/tensorflow/tf-keras-datasets/mnist.npz\n",
            "11490434/11490434 [==============================] - 2s 0us/step\n",
            "(60000, 28, 28)\n"
          ]
        }
      ]
    },
    {
      "cell_type": "code",
      "source": [
        "#show first train and test image\n",
        "plt.imshow(x_train_full[0])\n",
        "print(y_train_full[0])"
      ],
      "metadata": {
        "colab": {
          "base_uri": "https://localhost:8080/",
          "height": 282
        },
        "id": "ZQhTmxy_AuCD",
        "outputId": "4a374f0d-ed1c-428e-9941-d41f6c2958d8"
      },
      "execution_count": null,
      "outputs": [
        {
          "output_type": "stream",
          "name": "stdout",
          "text": [
            "5\n"
          ]
        },
        {
          "output_type": "display_data",
          "data": {
            "text/plain": [
              "<Figure size 432x288 with 1 Axes>"
            ],
            "image/png": "[encoded data removed]"
          },
          "metadata": {
            "needs_background": "light"
          }
        }
      ]
    },
    {
      "cell_type": "code",
      "source": [
        "plt.imshow(x_test[0])\n",
        "print(y_test[0])"
      ],
      "metadata": {
        "colab": {
          "base_uri": "https://localhost:8080/",
          "height": 282
        },
        "id": "cgDmhj1JAwIv",
        "outputId": "743de21d-7f2d-4c39-e5d6-ac335c3e4e1a"
      },
      "execution_count": null,
      "outputs": [
        {
          "output_type": "stream",
          "name": "stdout",
          "text": [
            "7\n"
          ]
        },
        {
          "output_type": "display_data",
          "data": {
            "text/plain": [
              "<Figure size 432x288 with 1 Axes>"
            ],
            "image/png": "[encoded data removed]"
          },
          "metadata": {
            "needs_background": "light"
          }
        }
      ]
    },
    {
      "cell_type": "code",
      "source": [
        "#find dimension of train and test data\n",
        "print(x_train_full.shape)\n",
        "print(y_train_full.shape)\n",
        "print(x_test.shape)\n",
        "print(y_test.shape)\n"
      ],
      "metadata": {
        "colab": {
          "base_uri": "https://localhost:8080/"
        },
        "id": "1CXVdZKMBGaa",
        "outputId": "bdbec30c-1db3-4ed2-d07b-ba7779c3441b"
      },
      "execution_count": null,
      "outputs": [
        {
          "output_type": "stream",
          "name": "stdout",
          "text": [
            "(60000, 28, 28)\n",
            "(60000,)\n",
            "(10000, 28, 28)\n",
            "(10000,)\n"
          ]
        }
      ]
    },
    {
      "cell_type": "code",
      "source": [
        "#normalising\n",
        "x_train_norm = x_train_full/255.\n",
        "x_test_norm = x_test/255.\n",
        "#print(x_train_norm[0])\n",
        "#print(len(x_train_norm[0]))\n",
        "print(x_train_norm.shape)\n",
        "print(x_test_norm.shape)\n"
      ],
      "metadata": {
        "colab": {
          "base_uri": "https://localhost:8080/"
        },
        "id": "4kyAcZgvBH67",
        "outputId": "716f6554-88aa-4993-e9e9-f75da360d7f9"
      },
      "execution_count": null,
      "outputs": [
        {
          "output_type": "stream",
          "name": "stdout",
          "text": [
            "(60000, 28, 28)\n",
            "(10000, 28, 28)\n"
          ]
        }
      ]
    },
    {
      "cell_type": "code",
      "source": [
        "X_train = x_train_norm.reshape(-1,28,28,1)   \n",
        "X_test = x_test_norm.reshape(-1,28,28,1)\n",
        "print(X_train.shape)\n",
        "print(X_test.shape)"
      ],
      "metadata": {
        "colab": {
          "base_uri": "https://localhost:8080/"
        },
        "id": "1vZ3lMinBJs1",
        "outputId": "9bf1bc8f-6d7d-4a7c-9ba1-7db05b9bc003"
      },
      "execution_count": null,
      "outputs": [
        {
          "output_type": "stream",
          "name": "stdout",
          "text": [
            "(60000, 28, 28, 1)\n",
            "(10000, 28, 28, 1)\n"
          ]
        }
      ]
    },
    {
      "cell_type": "code",
      "source": [
        "# Find the unique numbers from the train labels\n",
        "classes = np.unique(y_train_full)\n",
        "nClasses = len(classes)\n",
        "print('Total number of outputs : ', nClasses)\n",
        "print('Output classes : ', classes)"
      ],
      "metadata": {
        "colab": {
          "base_uri": "https://localhost:8080/"
        },
        "id": "m4VQJA2cBOIj",
        "outputId": "f76abeb0-b5db-449c-ebfe-4fe4f60db243"
      },
      "execution_count": null,
      "outputs": [
        {
          "output_type": "stream",
          "name": "stdout",
          "text": [
            "Total number of outputs :  10\n",
            "Output classes :  [0 1 2 3 4 5 6 7 8 9]\n"
          ]
        }
      ]
    },
    {
      "cell_type": "code",
      "source": [
        "x_valid, x_train = X_train[:5000], X_train[5000:]\n",
        "y_valid, y_train = y_train_full[:5000], y_train_full[5000:]\n"
      ],
      "metadata": {
        "id": "-9ZOL_aHBQEj"
      },
      "execution_count": null,
      "outputs": []
    },
    {
      "cell_type": "code",
      "source": [
        "# Building model\n",
        "model = Sequential()\n",
        "model.add(Conv2D(32, (3, 3), activation='relu', kernel_initializer='he_uniform', input_shape=(28, 28, 1))) #kernal(filter_intializer for activation)\n",
        "model.add(Dropout(0.25)) #25% of neurons are removed from the model\n",
        "model.add(Conv2D(32, (3, 3), activation='relu', kernel_initializer='he_uniform')) #filter(3,3)\n",
        "model.add(MaxPooling2D((2, 2)))\n",
        "model.add(Dropout(0.25))\n",
        "model.add(Flatten()) # flatting the output from the intput layer\n",
        "model.add(Dense(100, activation='relu', kernel_initializer='he_uniform'))#100 - no of neurons ,classification layer \n",
        "model.add(Dense(10, activation='softmax'))\n",
        "model.compile(loss=\"sparse_categorical_crossentropy\",\n",
        "              optimizer=\"sgd\",\n",
        "              metrics=[\"accuracy\"])"
      ],
      "metadata": {
        "id": "OgPf5i49BkVG"
      },
      "execution_count": null,
      "outputs": []
    },
    {
      "cell_type": "code",
      "source": [
        "model_history=model.fit(x_train, y_train,epochs=10,verbose=False,validation_data=(x_test, y_test),batch_size=10)"
      ],
      "metadata": {
        "id": "xIGAuC-BCSAC"
      },
      "execution_count": null,
      "outputs": []
    },
    {
      "cell_type": "code",
      "source": [
        "# plot loss\n",
        "print(model_history.history.keys())\n",
        "history_dict= model_history.history\n",
        "plt.subplot(2, 1, 1)\n",
        "plt.title('Cross Entropy Loss')\n",
        "plt.plot(history_dict['loss'], color='blue', label='train')\n",
        "plt.plot(history_dict['val_loss'], color='orange', label='test')\n",
        "# plot accuracy\n",
        "plt.subplot(2, 1, 2)\n",
        "plt.title('Classification Accuracy')\n",
        "plt.plot(history_dict['accuracy'], color='blue', label='train')\n",
        "plt.plot(history_dict['val_accuracy'], color='orange', label='test')\n",
        "plt.show()"
      ],
      "metadata": {
        "colab": {
          "base_uri": "https://localhost:8080/",
          "height": 298
        },
        "id": "LmbAN6XcCrlZ",
        "outputId": "8610e86f-0016-43d8-a4ba-6ea908d6fb3b"
      },
      "execution_count": null,
      "outputs": [
        {
          "output_type": "stream",
          "name": "stdout",
          "text": [
            "dict_keys(['loss', 'accuracy', 'val_loss', 'val_accuracy'])\n"
          ]
        },
        {
          "output_type": "display_data",
          "data": {
            "text/plain": [
              "<Figure size 432x288 with 2 Axes>"
            ],
            "image/png": "[encoded data removed]"
          },
          "metadata": {
            "needs_background": "light"
          }
        }
      ]
    },
    {
      "cell_type": "code",
      "source": [
        "model.evaluate(x_test, y_test)"
      ],
      "metadata": {
        "colab": {
          "base_uri": "https://localhost:8080/"
        },
        "id": "kn4k8U7HCuGA",
        "outputId": "8f92a641-68f1-48a6-c2f5-fc148a88659d"
      },
      "execution_count": null,
      "outputs": [
        {
          "output_type": "stream",
          "name": "stdout",
          "text": [
            "313/313 [==============================] - 1s 3ms/step - loss: 6.3386 - accuracy: 0.9892\n"
          ]
        },
        {
          "output_type": "execute_result",
          "data": {
            "text/plain": [
              "[6.338647842407227, 0.9891999959945679]"
            ]
          },
          "metadata": {},
          "execution_count": 84
        }
      ]
    },
    {
      "cell_type": "code",
      "source": [
        "from sklearn.model_selection import KFold\n",
        "kfold = KFold(5, shuffle=True, random_state=1)\n",
        "\t# enumerate splits\n",
        "for train_ix, test_ix in kfold.split(x_train):\n",
        "  #define model\n",
        "  model = Sequential()\n",
        "  model.add(Conv2D(32,(3, 3),activation='relu',kernel_initializer='he_uniform',input_shape=(28, 28, 1)))\n",
        "  model.add(MaxPooling2D((2, 2)))\n",
        "  model.add(Flatten())\n",
        "  model.add(Dense(100, activation='relu', kernel_initializer='he_uniform'))\n",
        "  model.add(Dense(10, activation='softmax'))\n",
        "  model.compile(loss=\"sparse_categorical_crossentropy\",optimizer=\"sgd\",metrics=[\"accuracy\"])\n",
        "\t# select rows for train and test\n",
        "  trainX, trainY, testX, testY = x_train[train_ix], y_train[train_ix], x_train[test_ix], y_train[test_ix]\n",
        "\t# fit model\n",
        "  history = model.fit(trainX, trainY, epochs=10, batch_size=32, validation_data=(testX, testY), verbose=0)\n",
        "\t# evaluate model\n",
        "  _, acc = model.evaluate(testX, testY, verbose=0)\n",
        "  print('> %.3f' % (acc * 100.0))\n",
        "\t\n",
        "\t\t"
      ],
      "metadata": {
        "colab": {
          "base_uri": "https://localhost:8080/"
        },
        "id": "LhmnsV7WCutb",
        "outputId": "47ef2076-25ed-42aa-ade6-7c6cfb38e64f"
      },
      "execution_count": null,
      "outputs": [
        {
          "output_type": "stream",
          "name": "stdout",
          "text": [
            "> 97.891\n",
            "> 97.755\n",
            "> 98.018\n",
            "> 98.091\n",
            "> 98.055\n"
          ]
        }
      ]
    },
    {
      "cell_type": "code",
      "source": [],
      "metadata": {
        "id": "v8LeR5scC3hR"
      },
      "execution_count": null,
      "outputs": []
    },
    {
      "cell_type": "markdown",
      "source": [
        "##Cifar"
      ],
      "metadata": {
        "id": "I8bC6iVlIobe"
      }
    },
    {
      "cell_type": "code",
      "source": [],
      "metadata": {
        "id": "65SAqlR0IrSB"
      },
      "execution_count": null,
      "outputs": []
    },
    {
      "cell_type": "code",
      "execution_count": null,
      "metadata": {
        "id": "ZsAU-qGJJsKJ"
      },
      "outputs": [],
      "source": [
        "import pandas as pd\n",
        "import numpy as np\n",
        "import matplotlib.pyplot as plt\n",
        "from tensorflow import keras\n",
        "from tensorflow.keras.models import Sequential\n",
        "from tensorflow.keras.layers import Dense, Conv2D, MaxPooling2D, Flatten, Dropout"
      ]
    },
    {
      "cell_type": "code",
      "source": [
        "cifar =  keras.datasets.cifar10"
      ],
      "metadata": {
        "id": "94EoBbStJx87"
      },
      "execution_count": null,
      "outputs": []
    },
    {
      "cell_type": "code",
      "source": [
        "(x_train, y_train),(x_test, y_test) = cifar.load_data()\n",
        "print(x_train.shape)"
      ],
      "metadata": {
        "colab": {
          "base_uri": "https://localhost:8080/"
        },
        "id": "CrNDMYrLJzob",
        "outputId": "3149ab5c-2f59-45a6-8be6-814e81dd0c65"
      },
      "execution_count": null,
      "outputs": [
        {
          "output_type": "stream",
          "name": "stdout",
          "text": [
            "Downloading data from https://www.cs.toronto.edu/~kriz/cifar-10-python.tar.gz\n",
            "170498071/170498071 [==============================] - 14s 0us/step\n",
            "(50000, 32, 32, 3)\n"
          ]
        }
      ]
    },
    {
      "cell_type": "code",
      "source": [
        "plt.imshow(x_train[7])"
      ],
      "metadata": {
        "colab": {
          "base_uri": "https://localhost:8080/",
          "height": 283
        },
        "id": "YZIYin5NKPyU",
        "outputId": "01d10d99-8ab7-4f4b-dd08-6bcef7400439"
      },
      "execution_count": null,
      "outputs": [
        {
          "output_type": "execute_result",
          "data": {
            "text/plain": [
              "<matplotlib.image.AxesImage at 0x7fca92c62f40>"
            ]
          },
          "metadata": {},
          "execution_count": 4
        },
        {
          "output_type": "display_data",
          "data": {
            "text/plain": [
              "<Figure size 432x288 with 1 Axes>"
            ],
            "image/png": "[encoded data removed]"
          },
          "metadata": {
            "needs_background": "light"
          }
        }
      ]
    },
    {
      "cell_type": "code",
      "source": [
        "print(y_test[0])"
      ],
      "metadata": {
        "colab": {
          "base_uri": "https://localhost:8080/"
        },
        "id": "EsJVnHtRKl_j",
        "outputId": "0a1ea07d-6f4c-403c-f923-02e14d4a6b5f"
      },
      "execution_count": null,
      "outputs": [
        {
          "output_type": "stream",
          "name": "stdout",
          "text": [
            "[3]\n"
          ]
        }
      ]
    },
    {
      "cell_type": "code",
      "source": [
        "x_train[0]"
      ],
      "metadata": {
        "colab": {
          "base_uri": "https://localhost:8080/"
        },
        "id": "XZs-zq-NKrxz",
        "outputId": "721c083c-f0f4-4f34-c333-d92758ab1991"
      },
      "execution_count": null,
      "outputs": [
        {
          "output_type": "execute_result",
          "data": {
            "text/plain": [
              "array([[[ 59,  62,  63],\n",
              "        [ 43,  46,  45],\n",
              "        [ 50,  48,  43],\n",
              "        ...,\n",
              "        [158, 132, 108],\n",
              "        [152, 125, 102],\n",
              "        [148, 124, 103]],\n",
              "\n",
              "       [[ 16,  20,  20],\n",
              "        [  0,   0,   0],\n",
              "        [ 18,   8,   0],\n",
              "        ...,\n",
              "        [123,  88,  55],\n",
              "        [119,  83,  50],\n",
              "        [122,  87,  57]],\n",
              "\n",
              "       [[ 25,  24,  21],\n",
              "        [ 16,   7,   0],\n",
              "        [ 49,  27,   8],\n",
              "        ...,\n",
              "        [118,  84,  50],\n",
              "        [120,  84,  50],\n",
              "        [109,  73,  42]],\n",
              "\n",
              "       ...,\n",
              "\n",
              "       [[208, 170,  96],\n",
              "        [201, 153,  34],\n",
              "        [198, 161,  26],\n",
              "        ...,\n",
              "        [160, 133,  70],\n",
              "        [ 56,  31,   7],\n",
              "        [ 53,  34,  20]],\n",
              "\n",
              "       [[180, 139,  96],\n",
              "        [173, 123,  42],\n",
              "        [186, 144,  30],\n",
              "        ...,\n",
              "        [184, 148,  94],\n",
              "        [ 97,  62,  34],\n",
              "        [ 83,  53,  34]],\n",
              "\n",
              "       [[177, 144, 116],\n",
              "        [168, 129,  94],\n",
              "        [179, 142,  87],\n",
              "        ...,\n",
              "        [216, 184, 140],\n",
              "        [151, 118,  84],\n",
              "        [123,  92,  72]]], dtype=uint8)"
            ]
          },
          "metadata": {},
          "execution_count": 7
        }
      ]
    },
    {
      "cell_type": "code",
      "source": [
        "x_train[0].shape"
      ],
      "metadata": {
        "colab": {
          "base_uri": "https://localhost:8080/"
        },
        "id": "mS1lEMpDLPbD",
        "outputId": "df81c545-a407-42e0-9659-798d42d21e77"
      },
      "execution_count": null,
      "outputs": [
        {
          "output_type": "execute_result",
          "data": {
            "text/plain": [
              "(32, 32, 3)"
            ]
          },
          "metadata": {},
          "execution_count": 8
        }
      ]
    },
    {
      "cell_type": "code",
      "source": [
        "x_train_norm = x_train/255\n",
        "x_test_norm = x_test/255"
      ],
      "metadata": {
        "id": "cUIMZTCSLTor"
      },
      "execution_count": null,
      "outputs": []
    },
    {
      "cell_type": "code",
      "source": [
        "x_train_norm.shape"
      ],
      "metadata": {
        "colab": {
          "base_uri": "https://localhost:8080/"
        },
        "id": "HtWCagOjLgYj",
        "outputId": "3acdce30-8f77-4f19-af26-0d00a39261b0"
      },
      "execution_count": null,
      "outputs": [
        {
          "output_type": "execute_result",
          "data": {
            "text/plain": [
              "(50000, 32, 32, 3)"
            ]
          },
          "metadata": {},
          "execution_count": 10
        }
      ]
    },
    {
      "cell_type": "code",
      "source": [
        "x_train_norm[0]"
      ],
      "metadata": {
        "colab": {
          "base_uri": "https://localhost:8080/"
        },
        "id": "kB7e5HCaLjp7",
        "outputId": "e7c923ac-704f-4680-c283-634f147c21ae"
      },
      "execution_count": null,
      "outputs": [
        {
          "output_type": "execute_result",
          "data": {
            "text/plain": [
              "array([[[0.23137255, 0.24313725, 0.24705882],\n",
              "        [0.16862745, 0.18039216, 0.17647059],\n",
              "        [0.19607843, 0.18823529, 0.16862745],\n",
              "        ...,\n",
              "        [0.61960784, 0.51764706, 0.42352941],\n",
              "        [0.59607843, 0.49019608, 0.4       ],\n",
              "        [0.58039216, 0.48627451, 0.40392157]],\n",
              "\n",
              "       [[0.0627451 , 0.07843137, 0.07843137],\n",
              "        [0.        , 0.        , 0.        ],\n",
              "        [0.07058824, 0.03137255, 0.        ],\n",
              "        ...,\n",
              "        [0.48235294, 0.34509804, 0.21568627],\n",
              "        [0.46666667, 0.3254902 , 0.19607843],\n",
              "        [0.47843137, 0.34117647, 0.22352941]],\n",
              "\n",
              "       [[0.09803922, 0.09411765, 0.08235294],\n",
              "        [0.0627451 , 0.02745098, 0.        ],\n",
              "        [0.19215686, 0.10588235, 0.03137255],\n",
              "        ...,\n",
              "        [0.4627451 , 0.32941176, 0.19607843],\n",
              "        [0.47058824, 0.32941176, 0.19607843],\n",
              "        [0.42745098, 0.28627451, 0.16470588]],\n",
              "\n",
              "       ...,\n",
              "\n",
              "       [[0.81568627, 0.66666667, 0.37647059],\n",
              "        [0.78823529, 0.6       , 0.13333333],\n",
              "        [0.77647059, 0.63137255, 0.10196078],\n",
              "        ...,\n",
              "        [0.62745098, 0.52156863, 0.2745098 ],\n",
              "        [0.21960784, 0.12156863, 0.02745098],\n",
              "        [0.20784314, 0.13333333, 0.07843137]],\n",
              "\n",
              "       [[0.70588235, 0.54509804, 0.37647059],\n",
              "        [0.67843137, 0.48235294, 0.16470588],\n",
              "        [0.72941176, 0.56470588, 0.11764706],\n",
              "        ...,\n",
              "        [0.72156863, 0.58039216, 0.36862745],\n",
              "        [0.38039216, 0.24313725, 0.13333333],\n",
              "        [0.3254902 , 0.20784314, 0.13333333]],\n",
              "\n",
              "       [[0.69411765, 0.56470588, 0.45490196],\n",
              "        [0.65882353, 0.50588235, 0.36862745],\n",
              "        [0.70196078, 0.55686275, 0.34117647],\n",
              "        ...,\n",
              "        [0.84705882, 0.72156863, 0.54901961],\n",
              "        [0.59215686, 0.4627451 , 0.32941176],\n",
              "        [0.48235294, 0.36078431, 0.28235294]]])"
            ]
          },
          "metadata": {},
          "execution_count": 11
        }
      ]
    },
    {
      "cell_type": "code",
      "source": [
        "# Find the unique numbers from the train labels\n",
        "classes = np.unique(y_train)\n",
        "nClasses = len(classes)\n",
        "print('Total number of outputs : ', nClasses)\n",
        "print('Output classes : ', classes)"
      ],
      "metadata": {
        "colab": {
          "base_uri": "https://localhost:8080/"
        },
        "id": "q3QGk2MMLo1j",
        "outputId": "532db4e3-bdd6-43fc-d317-788fa982345a"
      },
      "execution_count": null,
      "outputs": [
        {
          "output_type": "stream",
          "name": "stdout",
          "text": [
            "Total number of outputs :  10\n",
            "Output classes :  [0 1 2 3 4 5 6 7 8 9]\n"
          ]
        }
      ]
    },
    {
      "cell_type": "code",
      "source": [
        "print(x_train.shape)\n",
        "print(x_test.shape)"
      ],
      "metadata": {
        "colab": {
          "base_uri": "https://localhost:8080/"
        },
        "id": "-_1RmWXlL6Dj",
        "outputId": "3f6d05cb-445b-4bdd-db69-3548f7348c2b"
      },
      "execution_count": null,
      "outputs": [
        {
          "output_type": "stream",
          "name": "stdout",
          "text": [
            "(50000, 32, 32, 3)\n",
            "(10000, 32, 32, 3)\n"
          ]
        }
      ]
    },
    {
      "cell_type": "code",
      "source": [
        "from tensorflow.keras.utils import to_categorical\n",
        "y_cat_train  = to_categorical(y_train, 10)\n",
        "y_cat_test = to_categorical(y_test, 10)"
      ],
      "metadata": {
        "id": "3mVmUeP-PdWM"
      },
      "execution_count": null,
      "outputs": []
    },
    {
      "cell_type": "code",
      "source": [
        "model = Sequential()\n",
        "\n",
        "model.add(Conv2D(filters = 32, kernel_size = (4,4), input_shape = (32, 32, 3), activation = \"relu\"))\n",
        "model.add(MaxPooling2D(pool_size = (2,2)))\n",
        "\n",
        "model.add(Conv2D(filters = 64, kernel_size = (4,4), input_shape = (32, 32, 3), activation = \"relu\"))\n",
        "model.add(MaxPooling2D(pool_size = (2,2)))\n",
        "\n",
        "model.add(Flatten())\n",
        "\n",
        "model.add(Dense(512, activation = \"relu\"))\n",
        "model.add(Dense(256, activation = \"relu\"))\n",
        "model.add(Dense(128, activation = \"relu\"))\n",
        "\n",
        "model.add(Dense(10, activation = \"softmax\"))\n",
        "\n",
        "model.compile(loss = \"categorical_crossentropy\", optimizer = \"adam\", metrics = [\"accuracy\"])"
      ],
      "metadata": {
        "id": "bc11sBOcMtCb"
      },
      "execution_count": null,
      "outputs": []
    },
    {
      "cell_type": "code",
      "source": [
        "model.summary()"
      ],
      "metadata": {
        "colab": {
          "base_uri": "https://localhost:8080/"
        },
        "id": "KFH3dzhoNM3D",
        "outputId": "1533d284-0c2b-4c78-9cc3-cca3236ce721"
      },
      "execution_count": null,
      "outputs": [
        {
          "output_type": "stream",
          "name": "stdout",
          "text": [
            "Model: \"sequential\"\n",
            "_________________________________________________________________\n",
            " Layer (type)                Output Shape              Param #   \n",
            "=================================================================\n",
            " conv2d (Conv2D)             (None, 29, 29, 32)        1568      \n",
            "                                                                 \n",
            " max_pooling2d (MaxPooling2D  (None, 14, 14, 32)       0         \n",
            " )                                                               \n",
            "                                                                 \n",
            " conv2d_1 (Conv2D)           (None, 11, 11, 64)        32832     \n",
            "                                                                 \n",
            " max_pooling2d_1 (MaxPooling  (None, 5, 5, 64)         0         \n",
            " 2D)                                                             \n",
            "                                                                 \n",
            " flatten (Flatten)           (None, 1600)              0         \n",
            "                                                                 \n",
            " dense (Dense)               (None, 512)               819712    \n",
            "                                                                 \n",
            " dense_1 (Dense)             (None, 256)               131328    \n",
            "                                                                 \n",
            " dense_2 (Dense)             (None, 128)               32896     \n",
            "                                                                 \n",
            " dense_3 (Dense)             (None, 10)                1290      \n",
            "                                                                 \n",
            "=================================================================\n",
            "Total params: 1,019,626\n",
            "Trainable params: 1,019,626\n",
            "Non-trainable params: 0\n",
            "_________________________________________________________________\n"
          ]
        }
      ]
    },
    {
      "cell_type": "markdown",
      "source": [
        "Alert: This Will Take very Looooooooooooooooooooong Time to Complete"
      ],
      "metadata": {
        "id": "lFGi1zUOZDkB"
      }
    },
    {
      "cell_type": "code",
      "source": [
        "model_history = model.fit(x_train,y_cat_train,epochs=10,validation_data=(x_test,y_cat_test))"
      ],
      "metadata": {
        "colab": {
          "base_uri": "https://localhost:8080/"
        },
        "id": "gPQ1VODENiH6",
        "outputId": "84112c06-dbfe-4648-8f40-e9e5b859990d"
      },
      "execution_count": null,
      "outputs": [
        {
          "output_type": "stream",
          "name": "stdout",
          "text": [
            "Epoch 1/10\n",
            "1563/1563 [==============================] - 16s 6ms/step - loss: 1.8077 - accuracy: 0.3824 - val_loss: 1.4743 - val_accuracy: 0.4793\n",
            "Epoch 2/10\n",
            "1563/1563 [==============================] - 8s 5ms/step - loss: 1.3877 - accuracy: 0.5046 - val_loss: 1.4215 - val_accuracy: 0.4910\n",
            "Epoch 3/10\n",
            "1563/1563 [==============================] - 7s 5ms/step - loss: 1.2335 - accuracy: 0.5691 - val_loss: 1.2747 - val_accuracy: 0.5694\n",
            "Epoch 4/10\n",
            "1563/1563 [==============================] - 7s 5ms/step - loss: 1.1208 - accuracy: 0.6098 - val_loss: 1.3494 - val_accuracy: 0.5537\n",
            "Epoch 5/10\n",
            "1563/1563 [==============================] - 7s 5ms/step - loss: 1.0024 - accuracy: 0.6531 - val_loss: 1.1802 - val_accuracy: 0.6029\n",
            "Epoch 6/10\n",
            "1563/1563 [==============================] - 7s 5ms/step - loss: 0.8944 - accuracy: 0.6929 - val_loss: 1.1803 - val_accuracy: 0.6139\n",
            "Epoch 7/10\n",
            "1563/1563 [==============================] - 8s 5ms/step - loss: 0.7856 - accuracy: 0.7304 - val_loss: 1.2805 - val_accuracy: 0.5982\n",
            "Epoch 8/10\n",
            "1563/1563 [==============================] - 7s 5ms/step - loss: 0.6851 - accuracy: 0.7645 - val_loss: 1.4023 - val_accuracy: 0.5975\n",
            "Epoch 9/10\n",
            "1563/1563 [==============================] - 7s 5ms/step - loss: 0.5970 - accuracy: 0.7985 - val_loss: 1.3914 - val_accuracy: 0.6144\n",
            "Epoch 10/10\n",
            "1563/1563 [==============================] - 7s 5ms/step - loss: 0.5121 - accuracy: 0.8267 - val_loss: 1.3911 - val_accuracy: 0.6131\n"
          ]
        }
      ]
    },
    {
      "cell_type": "code",
      "source": [],
      "metadata": {
        "id": "6nfieRvSNsza"
      },
      "execution_count": null,
      "outputs": []
    }
  ]
}